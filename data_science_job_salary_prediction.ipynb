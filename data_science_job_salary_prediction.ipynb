{
  "cells": [
    {
      "cell_type": "markdown",
      "metadata": {
        "id": "view-in-github",
        "colab_type": "text"
      },
      "source": [
        "<a href=\"https://colab.research.google.com/github/passuony/0-hello-world/blob/master/data_science_job_salary_prediction.ipynb\" target=\"_parent\"><img src=\"https://colab.research.google.com/assets/colab-badge.svg\" alt=\"Open In Colab\"/></a>"
      ]
    },
    {
      "cell_type": "markdown",
      "metadata": {
        "id": "OKV7JbK7g7BG"
      },
      "source": [
        "# <p style=\"background-color:#682F2F;font-family:newtimeroman;color:#FFF9ED;font-size:90%;text-align:center;border-radius:10px; border: 2px solid #FFA500; padding: 10px;\">Data Science Salary Prediction </p>\n",
        "\n",
        "\n",
        "\n",
        "\n",
        "\n",
        "In this project, I will be using  Machine learning Models such as `Multiple Linear Regression, Lasso Regression and Random Forest` on my own dataset `Data Science Jobs & Salaries` to predict salaries, jobs and more. I will use `GridSearchCV` for tuning the model and `Test Ensembling Techniques`."
      ]
    },
    {
      "cell_type": "markdown",
      "metadata": {
        "id": "r1FRxvKOg7BJ"
      },
      "source": [
        "<a id='top'></a>\n",
        "<p style=\"background-color:#6A5ACD;font-family:Tahoma, Geneva, sans-serif;color:#FFFFFF;font-size:150%;text-align:center;border-radius:10px;padding:10px;\">  Learn About Data  </p>\n",
        "\n",
        "### `About Dataset`\n",
        "\n",
        "The Data in the dataset is extracted from the Glassdoor website, which is a job posting website. The dataset has data related to data science jobs and salaries and a lot more, offering a clear view of job opportunities. It is packed with essential details like job titles, estimated salaries, job descriptions, company ratings, and key company info such as location, size, and industry. Whether you're job hunting or researching, this dataset helps you understand the job market easily. Start exploring now to make smart career choices!\".\n",
        "\n",
        "Perfect for adding to your Kaggle notebooks, our dataset is a treasure trove for analyzing all kinds of job-related info. Whether you're curious about salary trends or want to find the best-rated companies, this dataset has you covered. It's great for beginners and experts alike, offering lots of chances to learn and discover. You can use it to predict things or find hidden patterns—there's so much you can do! So, get ready to explore the world of jobs with our easy-to-use dataset on Kaggle.\n",
        "\n",
        ">### [MY DATASET LINK](https://www.kaggle.com/datasets/fahadrehman07/data-science-jobs-and-salary-glassdoor)\n",
        "\n",
        "<h4 style = \"color:orange\">Columns in Dataset:</h4>\n",
        "\n",
        "1. `**Job Title:**`                           _Title of the Job_\n",
        "2. `**Salary Estimate:**`\t        _Estimated salary for the job that the company provides_\n",
        "3. `**Job Description:**`\t        _The description of the job_\n",
        "4. `**Rating:**`                              _Rating of the company_\n",
        "5. `**Company Name:**`               _Name of the Company_\n",
        "6. `**Location:**`                           _Location of the job_\n",
        "7. `**Headquarters:**`                   _Headquarters of the company_\n",
        "8. `**Size:**`                                  _Number of employees in the company_\n",
        "9.  `**Founded:**`                         _The year company founded_\n",
        "10. `**Type of ownership:**`        _Ownership types like private, public, government, and non-profit organizations_\n",
        "11. `**Industry:**`                         _Industry type like `Aerospace, Energy` where the company provides services_\n",
        "12. `**Sector:**`                           _Which type of services company provide in the industry, like industry (Energy), Sector (Oil, Gas)_\n",
        "13. `**Revenue:**`                       _Total revenue of the company_\n",
        "14. `**Competitors:**`                  _Company competitors_\n",
        "\n",
        "\n",
        "<!-- .......................................................................................................................... -->\n",
        "\n",
        "<p style=\"background-color:#20B2AA;font-family:Arial, sans-serif;color:#FFFFFF;font-size:150%;text-align:center;border-radius:10px;padding:10px;\">  Life Cycle Of Machine Learning Project  </p>\n",
        "\n",
        "\n",
        "   <ul style=\"font-size: 18px; font-family: 'Segoe UI';\">\n",
        "        <li><strong>Understanding the Problem Statement</strong></li>\n",
        "        <li><strong>Data Checks to Perform</strong></li>\n",
        "        <li><strong>Exploratory Data Analysis</strong></li>\n",
        "        <li><strong>Data Pre-Processing</strong></li>\n",
        "        <li><strong>Model Training</strong></li>\n",
        "        <li><strong>Choose Best Model</strong></li>\n",
        "        <li><strong>Model Tuning</strong></li>\n",
        "        <li><strong>Test Ensembling</strong></li>\n",
        "        <li><strong>Putting Model into Productino</strong></li>\n",
        "    </ul>\n",
        "\n",
        "\n",
        "<!-- >>>>>>>>>>>>>>>>>>>>>>>>>>>>>>>>>>>>>>>>>>>>>>>>>>>>>>>>>>>>>>>>>>>>>>>>>>>>>>>>>>>>>>>>>>>>>>>>>>>>>>>>>>>>>>>>>>>>>>>>>>>>>>>>>>>>>>>>>>>>>>>>>>>>>>>>>>>>>>>>>>>>>>>>>>>>>>>>>>>>>>>>>>>>>> -->\n",
        "\n",
        "\n",
        "\n",
        "\n",
        "<a id='top'></a>\n",
        "\n",
        "<p style=\"background-color: #4cbb17; font-family: Arial, sans-serif; color: #ffffff; font-size: 24px; text-align: center; padding: 10px; border-radius: 10px;\"> TABLE OF CONTENTS </p>\n",
        "   \n",
        "    \n",
        "* [1. IMPORTING LIBRARIES](#1)\n",
        "    \n",
        "* [2. LOADING DATA](#2)\n",
        "\n",
        "* [4. DATA CLEANING](#data_cleaning)\n",
        "\n",
        "* [3. Exploratory Data Analysis](#EDA)\n",
        "    \n",
        "* [5. Model Building](#ModelBuilding)   \n",
        "    \n",
        "* [6. TUNING BY GRIDSEARCHCV](#Tuning)\n",
        "      \n",
        "* [7. TEST ENSEMBLING](#ensembles)\n",
        "    \n",
        "* [8. PUTTING MODEL INTO PRODUCTION](#production)\n",
        "\n",
        "<!-- ................................................................................................................................................. -->\n",
        "\n",
        "\n",
        "\n",
        "\n"
      ]
    },
    {
      "cell_type": "markdown",
      "metadata": {
        "id": "TMHirD2gg7BL"
      },
      "source": [
        "<a id='1'></a>\n",
        "\n",
        "# <p style=\"background-color:#682F2F;font-family:newtimeroman;color:#FFF9ED;font-size:80%;text-align:center;border-radius:10px; \"><b>1|</b>  IMPORTING LIBRARIES </p>"
      ]
    },
    {
      "cell_type": "markdown",
      "metadata": {
        "id": "9vLjDUORg7BN"
      },
      "source": [
        "<a id='2'></a>\n",
        "\n",
        "# <p style=\"background-color: #20B2AA; font-family: Arial, sans-serif; color: #FFFFFF; font-size: 80%; text-align: center; border-radius: 10px; padding: 15px; \"><b>2|</b>  Data Checks to Perform </p>\n",
        "\n",
        "\n"
      ]
    },
    {
      "cell_type": "code",
      "execution_count": null,
      "metadata": {
        "execution": {
          "iopub.execute_input": "2024-06-14T11:00:42.20869Z",
          "iopub.status.busy": "2024-06-14T11:00:42.207588Z",
          "iopub.status.idle": "2024-06-14T11:00:45.203592Z",
          "shell.execute_reply": "2024-06-14T11:00:45.202654Z",
          "shell.execute_reply.started": "2024-06-14T11:00:42.208646Z"
        },
        "trusted": true,
        "colab": {
          "base_uri": "https://localhost:8080/"
        },
        "id": "pSpekKV4g7BM",
        "outputId": "7c27cc59-4aca-4f2e-b461-e015ea580eca"
      },
      "outputs": [
        {
          "output_type": "stream",
          "name": "stderr",
          "text": [
            "[nltk_data] Downloading package stopwords to /root/nltk_data...\n",
            "[nltk_data]   Unzipping corpora/stopwords.zip.\n"
          ]
        }
      ],
      "source": [
        "import numpy as np\n",
        "import pandas as pd\n",
        "import matplotlib.pyplot as plt\n",
        "import seaborn as sns\n",
        "\n",
        "# For Word Analysis\n",
        "from wordcloud import WordCloud, ImageColorGenerator, STOPWORDS\n",
        "from nltk.corpus import stopwords\n",
        "from nltk.tokenize import word_tokenize\n",
        "import nltk\n",
        "nltk.download('stopwords')\n",
        "\n",
        "import warnings\n",
        "warnings.filterwarnings('ignore')\n",
        "\n",
        "#Importing Machine learning Models\n",
        "from sklearn.model_selection import train_test_split\n",
        "\n",
        "from sklearn.linear_model import LinearRegression\n",
        "from sklearn.model_selection import cross_val_score\n",
        "from sklearn.model_selection import GridSearchCV\n",
        "\n",
        "from sklearn.linear_model import Lasso\n",
        "\n",
        "from sklearn.ensemble import RandomForestRegressor\n",
        "\n",
        "from sklearn.metrics import mean_absolute_error\n",
        "\n",
        "import pickle"
      ]
    },
    {
      "cell_type": "markdown",
      "metadata": {
        "id": "VrhsbQYkg7BO"
      },
      "source": [
        "\n",
        "  <ul style=\"border: 2px solid #4CAF50; border-radius: 8px; margin-top: 10px; width:57%\">\n",
        "    <li>Check Missing values</li>\n",
        "    <li>Check Duplicates</li>\n",
        "    <li>Check data type</li>\n",
        "    <li>Check the number of unique values of each column</li>\n",
        "    <li>Check statistics of the dataset</li>\n",
        "    <li>Check various categories present in the different categorical columns</li>\n",
        "  </ul>\n"
      ]
    },
    {
      "cell_type": "markdown",
      "metadata": {
        "id": "nvkaPOTHg7BO"
      },
      "source": [
        "<a id='data_cleaning'></a>\n",
        "# <p style=\"background-color:#FF6347;font-family:Verdana, sans-serif;color:#FFFFFF;font-size:90%;text-align:center;border-radius:10px;padding:10px;\"><b>3|</b>  Data Cleaning  </p>\n",
        "\n"
      ]
    },
    {
      "cell_type": "code",
      "execution_count": null,
      "metadata": {
        "execution": {
          "iopub.execute_input": "2024-06-14T11:00:45.305932Z",
          "iopub.status.busy": "2024-06-14T11:00:45.305559Z",
          "iopub.status.idle": "2024-06-14T11:00:45.314614Z",
          "shell.execute_reply": "2024-06-14T11:00:45.313662Z",
          "shell.execute_reply.started": "2024-06-14T11:00:45.305885Z"
        },
        "trusted": true,
        "id": "CrN9-z6sg7BP"
      },
      "outputs": [],
      "source": [
        "df.columns"
      ]
    },
    {
      "cell_type": "code",
      "execution_count": null,
      "metadata": {
        "execution": {
          "iopub.execute_input": "2024-06-14T11:00:45.316925Z",
          "iopub.status.busy": "2024-06-14T11:00:45.316603Z",
          "iopub.status.idle": "2024-06-14T11:00:45.324546Z",
          "shell.execute_reply": "2024-06-14T11:00:45.323753Z",
          "shell.execute_reply.started": "2024-06-14T11:00:45.316892Z"
        },
        "trusted": true,
        "id": "L_EScATxg7BQ"
      },
      "outputs": [],
      "source": [
        "df.shape"
      ]
    },
    {
      "cell_type": "code",
      "execution_count": null,
      "metadata": {
        "execution": {
          "iopub.execute_input": "2024-06-14T11:00:45.326119Z",
          "iopub.status.busy": "2024-06-14T11:00:45.325767Z",
          "iopub.status.idle": "2024-06-14T11:00:45.354806Z",
          "shell.execute_reply": "2024-06-14T11:00:45.353932Z",
          "shell.execute_reply.started": "2024-06-14T11:00:45.326086Z"
        },
        "trusted": true,
        "id": "Bpo_LXP1g7BR"
      },
      "outputs": [],
      "source": [
        "pd.set_option('display.max_columns', None)\n",
        "df.head(10)\n"
      ]
    },
    {
      "cell_type": "markdown",
      "metadata": {
        "id": "VcaIyUwJg7BS"
      },
      "source": [
        "\n",
        "\n",
        "#### By looking into the scraped data we will do the following tasks.\n",
        "\n",
        "<div style=\"color: #1E90FF; display: inline-block; border-radius: 10px; background-color: #F0F8FF; font-family: 'Arial', sans-serif; overflow: hidden; border: 5px groove #1E90FF; width:50%;\">\n",
        "    <p style=\"padding: 15px; color: #1E90FF; overflow: hidden; font-size: 24px; letter-spacing: 1px; margin: 0; width: 100%;\">\n",
        "        <b> Tasks List:</b>\n",
        "    </p>\n",
        "</div>\n",
        "\n",
        "\n",
        "<div style=\"border: 2px solid #1E90FF; border-radius: 10px; margin-top: 10px; width:50%\">\n",
        "    <ol style=\"list-style-type: none; padding: 10px;\">\n",
        "        <li>1. Renaming Columns.</li>\n",
        "        <li>2. Salary Parsing.</li>\n",
        "        <li>3. Company Name text only.</li>\n",
        "        <li>4. State of Field.</li>\n",
        "        <li>5. Age of Company.</li>\n",
        "        <li>6. Parsing of job description (python, etc.)</li>\n",
        "    </ol>\n",
        "</div>\n"
      ]
    },
    {
      "cell_type": "markdown",
      "metadata": {
        "id": "wZ1XsATWg7BS"
      },
      "source": [
        "<div style=\"color: #FFA500; display: inline-block; border-radius: 15px; background-color: #FFEFD5; font-family: 'Arial', sans-serif; overflow: hidden; border: 5px solid #FFA500;width:60%\"><p style=\"padding: 15px; color: #FFA500; overflow: hidden; font-size: 18px; letter-spacing: 1px; margin: 0; width: 750%;\"><b>1. Renaming Columns:</b></p>\n",
        "</div>\n",
        "\n"
      ]
    },
    {
      "cell_type": "code",
      "execution_count": null,
      "metadata": {
        "execution": {
          "iopub.execute_input": "2024-06-14T11:00:45.356175Z",
          "iopub.status.busy": "2024-06-14T11:00:45.35589Z",
          "iopub.status.idle": "2024-06-14T11:00:45.363955Z",
          "shell.execute_reply": "2024-06-14T11:00:45.363021Z",
          "shell.execute_reply.started": "2024-06-14T11:00:45.35615Z"
        },
        "trusted": true,
        "id": "k0hR7gFkg7BS"
      },
      "outputs": [],
      "source": [
        "def title_simplifier(title):\n",
        "    if 'data scientist' in title.lower():\n",
        "        return 'data scientist'\n",
        "    elif 'data engineer' in title.lower():\n",
        "        return 'data engineer'\n",
        "    elif 'analyst' in title.lower():\n",
        "        return 'analyst'\n",
        "    elif 'machine learning' in title.lower():\n",
        "        return 'mle'\n",
        "    elif 'manager' in title.lower():\n",
        "        return 'manager'\n",
        "    elif 'director' in title.lower():\n",
        "        return 'director'\n",
        "    else:\n",
        "        return 'na'\n",
        "\n",
        "def seniority(title):\n",
        "    if 'sr' in title.lower() or 'senior' in title.lower() or 'lead' in title.lower() or 'principal' in title.lower():\n",
        "        return 'senior'\n",
        "    elif 'jr' in title.lower() or 'jr.' in title.lower():\n",
        "        return 'jr'\n",
        "    else:\n",
        "        return 'na'\n",
        "\n",
        "#job title and seniority\n",
        "\n",
        "# Fix state Los Angeles\n",
        "\n",
        "# JOb description in length\n",
        "\n",
        "# Competitor count\n",
        "\n",
        "# Hourly wage to annual\n",
        "\n"
      ]
    },
    {
      "cell_type": "markdown",
      "metadata": {
        "id": "u9d1qtH3g7BT"
      },
      "source": [
        "<div style=\"color: #4CAF50; display: inline-block; border-radius: 8px; background-color: #E0FFFF; font-family: 'Arial', sans-serif; overflow: hidden; border: 5px outset pink; width:60%\">\n",
        "    <p style=\"padding: 15px; color: #4CAF50; overflow: hidden; font-size: 18px; letter-spacing: 1px; margin: 0; width: 750px;\">\n",
        "        <b> 2. Salary Parsing:</b>\n",
        "    </p>\n",
        "</div>\n",
        "\n",
        "Removing the -1 in the salary estimate column\n"
      ]
    },
    {
      "cell_type": "code",
      "execution_count": null,
      "metadata": {
        "execution": {
          "iopub.execute_input": "2024-06-14T11:00:45.365503Z",
          "iopub.status.busy": "2024-06-14T11:00:45.365245Z",
          "iopub.status.idle": "2024-06-14T11:00:45.392756Z",
          "shell.execute_reply": "2024-06-14T11:00:45.391855Z",
          "shell.execute_reply.started": "2024-06-14T11:00:45.36548Z"
        },
        "trusted": true,
        "id": "nOeZjY3Fg7BT"
      },
      "outputs": [],
      "source": [
        "df = df[df['Salary Estimate']!= '-1']\n",
        "df.head(10)"
      ]
    },
    {
      "cell_type": "markdown",
      "metadata": {
        "id": "eycn9P6Dg7BT"
      },
      "source": [
        "## `Removing the glassdoor est text in the salary column:`"
      ]
    },
    {
      "cell_type": "code",
      "execution_count": null,
      "metadata": {
        "execution": {
          "iopub.execute_input": "2024-06-14T11:00:45.394136Z",
          "iopub.status.busy": "2024-06-14T11:00:45.393887Z",
          "iopub.status.idle": "2024-06-14T11:00:45.416411Z",
          "shell.execute_reply": "2024-06-14T11:00:45.415468Z",
          "shell.execute_reply.started": "2024-06-14T11:00:45.394116Z"
        },
        "trusted": true,
        "id": "ddrVkI1Ag7BT"
      },
      "outputs": [],
      "source": [
        "df['Salary Estimate'] = df['Salary Estimate'].apply(lambda x: x.split('(')[0])\n",
        "\n",
        "df.head(10)"
      ]
    },
    {
      "cell_type": "markdown",
      "metadata": {
        "id": "pTFMqwcFg7BT"
      },
      "source": [
        "\n",
        "## `Removing the k and $ sign from the Salary Estimate:`\n",
        "\n",
        "> Removing the k and $ sign from the salary column so that\n",
        "we can predict or do analysis on numbers"
      ]
    },
    {
      "cell_type": "code",
      "execution_count": null,
      "metadata": {
        "execution": {
          "iopub.execute_input": "2024-06-14T11:00:45.418399Z",
          "iopub.status.busy": "2024-06-14T11:00:45.417709Z",
          "iopub.status.idle": "2024-06-14T11:00:45.440523Z",
          "shell.execute_reply": "2024-06-14T11:00:45.439611Z",
          "shell.execute_reply.started": "2024-06-14T11:00:45.418367Z"
        },
        "trusted": true,
        "id": "s3KKLk0jg7BT"
      },
      "outputs": [],
      "source": [
        "df['Salary Estimate'] = df['Salary Estimate'].apply(lambda x: x.replace('K','').replace('$',''))\n",
        "df.head(10)"
      ]
    },
    {
      "cell_type": "markdown",
      "metadata": {
        "id": "DP82rfqWg7BU"
      },
      "source": [
        "\n",
        ">The K and $ sign are removed from the column.<br>\n",
        "Its a range of numbers we have to convert it into a single number so it can be used for analysis and prediction.\n"
      ]
    },
    {
      "cell_type": "markdown",
      "metadata": {
        "id": "zOrkCvqPg7BU"
      },
      "source": [
        "## `Removing Per hour & Employee provided salary text in Salary Estimated Column:`"
      ]
    },
    {
      "cell_type": "code",
      "execution_count": null,
      "metadata": {
        "execution": {
          "iopub.execute_input": "2024-06-14T11:00:45.444874Z",
          "iopub.status.busy": "2024-06-14T11:00:45.444578Z",
          "iopub.status.idle": "2024-06-14T11:00:45.454991Z",
          "shell.execute_reply": "2024-06-14T11:00:45.454249Z",
          "shell.execute_reply.started": "2024-06-14T11:00:45.44485Z"
        },
        "trusted": true,
        "id": "MXbQAPhAg7BU"
      },
      "outputs": [],
      "source": [
        "df['PerHour'] = df['Salary Estimate'].apply(lambda x: 1 if 'per hour' in x.lower() else 0)\n",
        "df['Employee'] = df['Salary Estimate'].apply(lambda x: 1 if 'employee provided salary:' in x.lower() else 0)"
      ]
    },
    {
      "cell_type": "code",
      "execution_count": null,
      "metadata": {
        "execution": {
          "iopub.execute_input": "2024-06-14T11:00:45.456434Z",
          "iopub.status.busy": "2024-06-14T11:00:45.456184Z",
          "iopub.status.idle": "2024-06-14T11:00:45.465849Z",
          "shell.execute_reply": "2024-06-14T11:00:45.464903Z",
          "shell.execute_reply.started": "2024-06-14T11:00:45.456412Z"
        },
        "trusted": true,
        "id": "wO7yAvajg7BU"
      },
      "outputs": [],
      "source": [
        "df['Salary Estimate'] = df['Salary Estimate'].apply(lambda x: x.lower().replace('per hour', ''))\n",
        "df['Salary Estimate'] = df['Salary Estimate'].apply(lambda x: x.lower().replace('employer provided salary:', ''))"
      ]
    },
    {
      "cell_type": "code",
      "execution_count": null,
      "metadata": {
        "execution": {
          "iopub.execute_input": "2024-06-14T11:00:45.467288Z",
          "iopub.status.busy": "2024-06-14T11:00:45.467006Z",
          "iopub.status.idle": "2024-06-14T11:00:45.49316Z",
          "shell.execute_reply": "2024-06-14T11:00:45.492215Z",
          "shell.execute_reply.started": "2024-06-14T11:00:45.467264Z"
        },
        "trusted": true,
        "id": "ImLSdPFdg7BU"
      },
      "outputs": [],
      "source": [
        "pd.set_option('display.max_rows', 10)\n",
        "df\n"
      ]
    },
    {
      "cell_type": "markdown",
      "metadata": {
        "id": "UIF3WPOlg7BV"
      },
      "source": [
        ">Now the per hour text and employee provided salary text is removed from the salary estimated column.<br>\n",
        "Only the integer value is remained but there still a problem that the integer is in interval and we have to convert into a single integer.\n",
        "................................................................................................................................................................................................................................................................\n"
      ]
    },
    {
      "cell_type": "markdown",
      "metadata": {
        "id": "eh_nmyEdg7BV"
      },
      "source": [
        "## `Splitting the Salary estimated column:`\n",
        "\n",
        "- The first will be the minimum salary.<br>\n",
        "- The second will be the Maximumn Salary.\n"
      ]
    },
    {
      "cell_type": "code",
      "execution_count": null,
      "metadata": {
        "execution": {
          "iopub.execute_input": "2024-06-14T11:00:45.494946Z",
          "iopub.status.busy": "2024-06-14T11:00:45.494579Z",
          "iopub.status.idle": "2024-06-14T11:00:45.503979Z",
          "shell.execute_reply": "2024-06-14T11:00:45.503001Z",
          "shell.execute_reply.started": "2024-06-14T11:00:45.494911Z"
        },
        "trusted": true,
        "id": "Ck5Ebleyg7BV"
      },
      "outputs": [],
      "source": [
        "df['Min_Salary'] = df['Salary Estimate'].apply(lambda x: int(x.split('-')[0]))\n",
        "df['Max_Salary'] = df['Salary Estimate'].apply(lambda x: int(x.split('-')[1]))"
      ]
    },
    {
      "cell_type": "markdown",
      "metadata": {
        "id": "HTPpWm1_g7BV"
      },
      "source": [
        "- <b> Now two columns are created Min and Max salary.</b><br>\n",
        "To get the single integer in Salary Estimate column we will take average of these two columns"
      ]
    },
    {
      "cell_type": "code",
      "execution_count": null,
      "metadata": {
        "execution": {
          "iopub.execute_input": "2024-06-14T11:00:45.505565Z",
          "iopub.status.busy": "2024-06-14T11:00:45.505283Z",
          "iopub.status.idle": "2024-06-14T11:00:45.529903Z",
          "shell.execute_reply": "2024-06-14T11:00:45.529048Z",
          "shell.execute_reply.started": "2024-06-14T11:00:45.505541Z"
        },
        "trusted": true,
        "id": "gO1Q2Eolg7BV"
      },
      "outputs": [],
      "source": [
        "df['Salary Estimate']= (df['Min_Salary'] + df['Max_Salary'])/2\n",
        "\n",
        "df.head()"
      ]
    },
    {
      "cell_type": "markdown",
      "metadata": {
        "id": "06D07jo4g7BW"
      },
      "source": [
        "\n",
        "- Now the Salary Estimate column is completely clean and ready to use.<br>\n",
        "NOTE: The datatype of values is float and if for some reason you want to convert in into integer datatype use the following line of code.\n",
        "\n",
        "```\n",
        "df['Salary Estimate']= (df['Min_Salary'] + df['Max_Salary'])//2\n",
        "```"
      ]
    },
    {
      "cell_type": "code",
      "execution_count": null,
      "metadata": {
        "execution": {
          "iopub.execute_input": "2024-06-14T11:00:45.531366Z",
          "iopub.status.busy": "2024-06-14T11:00:45.531059Z",
          "iopub.status.idle": "2024-06-14T11:00:45.55739Z",
          "shell.execute_reply": "2024-06-14T11:00:45.556439Z",
          "shell.execute_reply.started": "2024-06-14T11:00:45.531341Z"
        },
        "trusted": true,
        "id": "wU_2QbCjg7BW"
      },
      "outputs": [],
      "source": [
        "\n",
        "\n",
        "\n",
        "df.drop(['Min_Salary','Max_Salary'] , axis =1)\n",
        "\n"
      ]
    },
    {
      "cell_type": "markdown",
      "metadata": {
        "id": "2EqquX8vg7BW"
      },
      "source": [
        "<div style=\"color: #4CAF50; display: inline-block; border-radius: 8px; background-color: #E0FFFF; font-family: 'Arial', sans-serif; overflow: hidden; border: 5px outset pink; width:50%\">\n",
        "    <p style=\"padding: 15px; color: #4CAF50; overflow: hidden; font-size: 18px; letter-spacing: 1px; margin: 0; width: 750px;\">\n",
        "        <b> 3.Cleaning Company Name Column:</b>\n",
        "    </p>\n",
        "</div>"
      ]
    },
    {
      "cell_type": "code",
      "execution_count": null,
      "metadata": {
        "execution": {
          "iopub.execute_input": "2024-06-14T11:00:45.558749Z",
          "iopub.status.busy": "2024-06-14T11:00:45.558479Z",
          "iopub.status.idle": "2024-06-14T11:00:45.580779Z",
          "shell.execute_reply": "2024-06-14T11:00:45.579783Z",
          "shell.execute_reply.started": "2024-06-14T11:00:45.558714Z"
        },
        "trusted": true,
        "id": "KtWv_xbLg7BW"
      },
      "outputs": [],
      "source": [
        "df.head(10)"
      ]
    },
    {
      "cell_type": "code",
      "execution_count": null,
      "metadata": {
        "execution": {
          "iopub.execute_input": "2024-06-14T11:00:45.582364Z",
          "iopub.status.busy": "2024-06-14T11:00:45.582074Z",
          "iopub.status.idle": "2024-06-14T11:00:45.601217Z",
          "shell.execute_reply": "2024-06-14T11:00:45.600242Z",
          "shell.execute_reply.started": "2024-06-14T11:00:45.582342Z"
        },
        "trusted": true,
        "id": "3nnOpIu9g7BW"
      },
      "outputs": [],
      "source": [
        "df['Company Name'] = df.apply(lambda x: x['Company Name'] if x['Rating']<0 else x['Company Name'][:-1], axis = 1)\n"
      ]
    },
    {
      "cell_type": "code",
      "execution_count": null,
      "metadata": {
        "execution": {
          "iopub.execute_input": "2024-06-14T11:00:45.603063Z",
          "iopub.status.busy": "2024-06-14T11:00:45.602467Z",
          "iopub.status.idle": "2024-06-14T11:00:45.610485Z",
          "shell.execute_reply": "2024-06-14T11:00:45.609426Z",
          "shell.execute_reply.started": "2024-06-14T11:00:45.603031Z"
        },
        "trusted": true,
        "id": "ZhinD_Szg7BX"
      },
      "outputs": [],
      "source": [
        "df['Company Name']= df['Company Name'].apply(lambda x: x.split('\\n')[0])\n"
      ]
    },
    {
      "cell_type": "markdown",
      "metadata": {
        "id": "OOgn2QcTg7BX"
      },
      "source": [
        "<b>Now the Company Name column is cleaned and ready to use for EDA</b>\n",
        "\n",
        "<div style=\"color: #4CAF50; display: inline-block; border-radius: 8px; background-color: #E0FFFF; font-family: 'Arial', sans-serif; overflow: hidden; border: 5px outset pink; width:50%\">\n",
        "    <p style=\"padding: 15px; color: #4CAF50; overflow: hidden; font-size: 18px; letter-spacing: 1px; margin: 0; width: 750px;\">\n",
        "        <b> 4. State of Field Column Cleaning:</b>\n",
        "    </p>\n",
        "</div>\n",
        "\n",
        "We can create the state column from the location column"
      ]
    },
    {
      "cell_type": "code",
      "execution_count": null,
      "metadata": {
        "execution": {
          "iopub.execute_input": "2024-06-14T11:00:45.612244Z",
          "iopub.status.busy": "2024-06-14T11:00:45.611953Z",
          "iopub.status.idle": "2024-06-14T11:00:45.620377Z",
          "shell.execute_reply": "2024-06-14T11:00:45.619549Z",
          "shell.execute_reply.started": "2024-06-14T11:00:45.612222Z"
        },
        "trusted": true,
        "id": "K7pc0t8wg7BX"
      },
      "outputs": [],
      "source": [
        "df['State'] = df.Location.apply(lambda x: x.split(',')[1])\n"
      ]
    },
    {
      "cell_type": "code",
      "execution_count": null,
      "metadata": {
        "execution": {
          "iopub.execute_input": "2024-06-14T11:00:45.622415Z",
          "iopub.status.busy": "2024-06-14T11:00:45.621625Z",
          "iopub.status.idle": "2024-06-14T11:00:45.644017Z",
          "shell.execute_reply": "2024-06-14T11:00:45.643001Z",
          "shell.execute_reply.started": "2024-06-14T11:00:45.622383Z"
        },
        "trusted": true,
        "id": "fhTpuRjqg7BX"
      },
      "outputs": [],
      "source": [
        "df.head(2)"
      ]
    },
    {
      "cell_type": "code",
      "execution_count": null,
      "metadata": {
        "execution": {
          "iopub.execute_input": "2024-06-14T11:00:45.645576Z",
          "iopub.status.busy": "2024-06-14T11:00:45.645183Z",
          "iopub.status.idle": "2024-06-14T11:00:45.651353Z",
          "shell.execute_reply": "2024-06-14T11:00:45.65029Z",
          "shell.execute_reply.started": "2024-06-14T11:00:45.64551Z"
        },
        "trusted": true,
        "id": "vk3CDSLgg7BX"
      },
      "outputs": [],
      "source": [
        "# df= df.drop(['States'], axis = 1)\n",
        "# df.head()"
      ]
    },
    {
      "cell_type": "markdown",
      "metadata": {
        "id": "_e9Q7iCtg7Bc"
      },
      "source": [
        "### `Lets see if the location & Headquarter is same`\n"
      ]
    },
    {
      "cell_type": "code",
      "execution_count": null,
      "metadata": {
        "execution": {
          "iopub.execute_input": "2024-06-14T11:00:45.652777Z",
          "iopub.status.busy": "2024-06-14T11:00:45.652453Z",
          "iopub.status.idle": "2024-06-14T11:00:45.698439Z",
          "shell.execute_reply": "2024-06-14T11:00:45.697482Z",
          "shell.execute_reply.started": "2024-06-14T11:00:45.652746Z"
        },
        "trusted": true,
        "id": "pGgT0sHdg7Bc"
      },
      "outputs": [],
      "source": [
        "df['Same State'] = df.apply(lambda x: 1 if x.Location==x.Headquarters else 0, axis =1)\n",
        "df.head()"
      ]
    },
    {
      "cell_type": "markdown",
      "metadata": {
        "id": "06pc76y1g7Bc"
      },
      "source": [
        "<div style=\"color: #4CAF50; display: inline-block; border-radius: 8px; background-color: #E0FFFF; font-family: 'Arial', sans-serif; overflow: hidden; border: 5px outset pink; width:50%\">\n",
        "    <p style=\"padding: 15px; color: #4CAF50; overflow: hidden; font-size: 18px; letter-spacing: 1px; margin: 0; width: 750px;\">\n",
        "        <b> 5. Age of Company:</b>\n",
        "    </p>\n",
        "</div>"
      ]
    },
    {
      "cell_type": "code",
      "execution_count": null,
      "metadata": {
        "execution": {
          "iopub.execute_input": "2024-06-14T11:00:45.701022Z",
          "iopub.status.busy": "2024-06-14T11:00:45.69969Z",
          "iopub.status.idle": "2024-06-14T11:00:45.707238Z",
          "shell.execute_reply": "2024-06-14T11:00:45.706146Z",
          "shell.execute_reply.started": "2024-06-14T11:00:45.700985Z"
        },
        "trusted": true,
        "id": "WCHtKGv0g7Bc"
      },
      "outputs": [],
      "source": [
        "df['Age'] = df['Founded'].apply(lambda x: x if x<1 else 2023-x)\n"
      ]
    },
    {
      "cell_type": "code",
      "execution_count": null,
      "metadata": {
        "execution": {
          "iopub.execute_input": "2024-06-14T11:00:45.708917Z",
          "iopub.status.busy": "2024-06-14T11:00:45.708555Z",
          "iopub.status.idle": "2024-06-14T11:00:45.73621Z",
          "shell.execute_reply": "2024-06-14T11:00:45.735234Z",
          "shell.execute_reply.started": "2024-06-14T11:00:45.708884Z"
        },
        "trusted": true,
        "id": "6uAFV2jCg7Bd"
      },
      "outputs": [],
      "source": [
        "df.head(10)"
      ]
    },
    {
      "cell_type": "markdown",
      "metadata": {
        "id": "Sd2JAW8-g7Bd"
      },
      "source": [
        "<div style=\"color: #4CAF50; display: inline-block; border-radius: 8px; background-color: #E0FFFF; font-family: 'Arial', sans-serif; overflow: hidden; border: 5px outset pink; width:50%\">\n",
        "    <p style=\"padding: 15px; color: #4CAF50; overflow: hidden; font-size: 18px; letter-spacing: 1px; margin: 0; width: 750px;\">\n",
        "        <b> 6. Parsing the Job Description (python etc):</b>\n",
        "    </p>\n",
        "</div>\n",
        "\n",
        "<div style=\"border: 2px solid #4CAF50; border-radius: 8px; margin-top: 10px; width:40%\">\n",
        "    <ul style=\"list-style-type: none; padding: 10px;\">\n",
        "        <li>python.</li>\n",
        "        <li>R Studio.</li>\n",
        "        <li>Spark.</li>\n",
        "        <li>AWS.</li>\n",
        "        <li>Excel.</li>\n",
        "    </ul>\n",
        "</div>\n"
      ]
    },
    {
      "cell_type": "code",
      "execution_count": null,
      "metadata": {
        "execution": {
          "iopub.execute_input": "2024-06-14T11:00:45.738284Z",
          "iopub.status.busy": "2024-06-14T11:00:45.737368Z",
          "iopub.status.idle": "2024-06-14T11:00:45.90164Z",
          "shell.execute_reply": "2024-06-14T11:00:45.900699Z",
          "shell.execute_reply.started": "2024-06-14T11:00:45.738258Z"
        },
        "trusted": true,
        "id": "KsoQdRKsg7Bd"
      },
      "outputs": [],
      "source": [
        "# for python\n",
        "df['Python_yn'] = df['Job Description'].apply(lambda x: 1 if 'python' in x.lower() else 0)\n",
        "\n",
        "\n",
        "\n",
        "df['R Studio'] = df['Job Description'].apply(lambda x: 1 if 'r studio' in x.lower() or 'r-studio' in x.lower() or 'r_studio' in x.lower() else 0)\n",
        "\n",
        "\n",
        "# For Spark\n",
        "df['Spark'] = df['Job Description'].apply(lambda x: 1 if 'spark' in x.lower() else 0)\n",
        "\n",
        "\n",
        "# For AWS\n",
        "df['AWS_yn'] = df['Job Description'].apply(lambda x: 1 if 'aws' in x.lower() else 0)\n",
        "\n",
        "\n",
        "# For Excel\n",
        "df['Excel_yn'] = df['Job Description'].apply(lambda x: 1 if 'excel' in x.lower() else 0)"
      ]
    },
    {
      "cell_type": "code",
      "execution_count": null,
      "metadata": {
        "execution": {
          "iopub.execute_input": "2024-06-14T11:00:45.903217Z",
          "iopub.status.busy": "2024-06-14T11:00:45.902867Z",
          "iopub.status.idle": "2024-06-14T11:00:45.929565Z",
          "shell.execute_reply": "2024-06-14T11:00:45.928535Z",
          "shell.execute_reply.started": "2024-06-14T11:00:45.903185Z"
        },
        "trusted": true,
        "id": "dtObfZdKg7Bd"
      },
      "outputs": [],
      "source": [
        "df.head(10)"
      ]
    },
    {
      "cell_type": "code",
      "execution_count": null,
      "metadata": {
        "execution": {
          "iopub.execute_input": "2024-06-14T11:00:45.931091Z",
          "iopub.status.busy": "2024-06-14T11:00:45.930814Z",
          "iopub.status.idle": "2024-06-14T11:00:45.936847Z",
          "shell.execute_reply": "2024-06-14T11:00:45.935972Z",
          "shell.execute_reply.started": "2024-06-14T11:00:45.93106Z"
        },
        "trusted": true,
        "id": "SLVkk6ZUg7Bd"
      },
      "outputs": [],
      "source": [
        "df.columns"
      ]
    },
    {
      "cell_type": "code",
      "execution_count": null,
      "metadata": {
        "execution": {
          "iopub.execute_input": "2024-06-14T11:00:45.947103Z",
          "iopub.status.busy": "2024-06-14T11:00:45.94684Z",
          "iopub.status.idle": "2024-06-14T11:00:45.954038Z",
          "shell.execute_reply": "2024-06-14T11:00:45.953152Z",
          "shell.execute_reply.started": "2024-06-14T11:00:45.947074Z"
        },
        "trusted": true,
        "id": "wrdrWmTig7Bd"
      },
      "outputs": [],
      "source": [
        "#df = df.drop(['Unnamed: 0'], axis=1)\n",
        "# columns = df.columns\n",
        "list = ['Job Title', 'Salary Estimate', 'Job Description',\n",
        "       'Rating', 'Company Name', 'Location', 'Headquarters', 'Size', 'Founded',\n",
        "       'Type of ownership', 'Industry', 'Sector', 'Revenue', 'Competitors',\n",
        "       'PerHour', 'Employee', 'Min_Salary', 'Max_Salary', 'State',\n",
        "       'Same State', 'Age', 'Python_yn', 'R Studio', 'Spark', 'AWS_yn',\n",
        "       'Excel_yn']\n",
        "# CleanedData= pd.DataFrame()\n",
        "df=df[list]"
      ]
    },
    {
      "cell_type": "code",
      "execution_count": null,
      "metadata": {
        "execution": {
          "iopub.execute_input": "2024-06-14T11:00:45.955322Z",
          "iopub.status.busy": "2024-06-14T11:00:45.955052Z",
          "iopub.status.idle": "2024-06-14T11:00:45.982928Z",
          "shell.execute_reply": "2024-06-14T11:00:45.982102Z",
          "shell.execute_reply.started": "2024-06-14T11:00:45.955286Z"
        },
        "trusted": true,
        "id": "e7GxcL1Ug7Be"
      },
      "outputs": [],
      "source": [
        "pd.set_option('display.max_columns', None)\n",
        "df.head()"
      ]
    },
    {
      "cell_type": "code",
      "execution_count": null,
      "metadata": {
        "execution": {
          "iopub.execute_input": "2024-06-14T11:00:45.984297Z",
          "iopub.status.busy": "2024-06-14T11:00:45.983978Z",
          "iopub.status.idle": "2024-06-14T11:00:45.990254Z",
          "shell.execute_reply": "2024-06-14T11:00:45.989387Z",
          "shell.execute_reply.started": "2024-06-14T11:00:45.984269Z"
        },
        "trusted": true,
        "id": "pw_ZMjuxg7Be"
      },
      "outputs": [],
      "source": [
        "\n",
        "\n",
        "df['Job_simp'] = df['Job Title'].apply(title_simplifier)"
      ]
    },
    {
      "cell_type": "code",
      "execution_count": null,
      "metadata": {
        "execution": {
          "iopub.execute_input": "2024-06-14T11:00:45.991838Z",
          "iopub.status.busy": "2024-06-14T11:00:45.991469Z",
          "iopub.status.idle": "2024-06-14T11:00:46.00601Z",
          "shell.execute_reply": "2024-06-14T11:00:46.005202Z",
          "shell.execute_reply.started": "2024-06-14T11:00:45.991815Z"
        },
        "trusted": true,
        "id": "qVNohV_Ug7Be"
      },
      "outputs": [],
      "source": [
        "\n",
        "\n",
        "df.Job_simp.value_counts()"
      ]
    },
    {
      "cell_type": "code",
      "execution_count": null,
      "metadata": {
        "execution": {
          "iopub.execute_input": "2024-06-14T11:00:46.007243Z",
          "iopub.status.busy": "2024-06-14T11:00:46.007012Z",
          "iopub.status.idle": "2024-06-14T11:00:46.018162Z",
          "shell.execute_reply": "2024-06-14T11:00:46.017264Z",
          "shell.execute_reply.started": "2024-06-14T11:00:46.007223Z"
        },
        "trusted": true,
        "id": "94bJ-hqAg7Be"
      },
      "outputs": [],
      "source": [
        "df['seniority'] = df['Job Title'].apply(seniority)\n",
        "df.seniority.value_counts()"
      ]
    },
    {
      "cell_type": "code",
      "execution_count": null,
      "metadata": {
        "execution": {
          "iopub.execute_input": "2024-06-14T11:00:46.019942Z",
          "iopub.status.busy": "2024-06-14T11:00:46.019355Z",
          "iopub.status.idle": "2024-06-14T11:00:46.030301Z",
          "shell.execute_reply": "2024-06-14T11:00:46.029522Z",
          "shell.execute_reply.started": "2024-06-14T11:00:46.019917Z"
        },
        "trusted": true,
        "id": "c7J69cgCg7Be"
      },
      "outputs": [],
      "source": [
        "# Fix state los Angeles\n",
        "\n",
        "df['job_state'] = df.State.apply(lambda x: x.strip() if x.strip().lower() != 'los angeles' else 'CA')\n",
        "df.State.value_counts()"
      ]
    },
    {
      "cell_type": "code",
      "execution_count": null,
      "metadata": {
        "execution": {
          "iopub.execute_input": "2024-06-14T11:00:46.031703Z",
          "iopub.status.busy": "2024-06-14T11:00:46.031395Z",
          "iopub.status.idle": "2024-06-14T11:00:46.039598Z",
          "shell.execute_reply": "2024-06-14T11:00:46.038709Z",
          "shell.execute_reply.started": "2024-06-14T11:00:46.031669Z"
        },
        "trusted": true,
        "id": "AbG5AfF9g7Bf"
      },
      "outputs": [],
      "source": [
        "df.columns"
      ]
    },
    {
      "cell_type": "code",
      "execution_count": null,
      "metadata": {
        "execution": {
          "iopub.execute_input": "2024-06-14T11:00:46.041111Z",
          "iopub.status.busy": "2024-06-14T11:00:46.04079Z",
          "iopub.status.idle": "2024-06-14T11:00:46.048034Z",
          "shell.execute_reply": "2024-06-14T11:00:46.047261Z",
          "shell.execute_reply.started": "2024-06-14T11:00:46.041076Z"
        },
        "trusted": true,
        "id": "Wxi4wPjPg7Bf"
      },
      "outputs": [],
      "source": [
        "# job descrition length\n",
        "\n",
        "df['desc_len'] = df['Job Description'].apply(lambda x: len(x))"
      ]
    },
    {
      "cell_type": "code",
      "execution_count": null,
      "metadata": {
        "execution": {
          "iopub.execute_input": "2024-06-14T11:00:46.049588Z",
          "iopub.status.busy": "2024-06-14T11:00:46.049005Z",
          "iopub.status.idle": "2024-06-14T11:00:46.058785Z",
          "shell.execute_reply": "2024-06-14T11:00:46.057942Z",
          "shell.execute_reply.started": "2024-06-14T11:00:46.049564Z"
        },
        "trusted": true,
        "id": "N9onvn9zg7Bf"
      },
      "outputs": [],
      "source": [
        "df.desc_len"
      ]
    },
    {
      "cell_type": "markdown",
      "metadata": {
        "id": "7I4h9ztNg7Bf"
      },
      "source": [
        "## `- Competitor Count:`\n",
        "\n"
      ]
    },
    {
      "cell_type": "code",
      "execution_count": null,
      "metadata": {
        "execution": {
          "iopub.execute_input": "2024-06-14T11:00:46.060296Z",
          "iopub.status.busy": "2024-06-14T11:00:46.059957Z",
          "iopub.status.idle": "2024-06-14T11:00:46.068137Z",
          "shell.execute_reply": "2024-06-14T11:00:46.067272Z",
          "shell.execute_reply.started": "2024-06-14T11:00:46.060264Z"
        },
        "trusted": true,
        "id": "7vcc8zuTg7Bf"
      },
      "outputs": [],
      "source": [
        "# competitors count\n",
        "df['Num_comp'] = df['Competitors'].apply(lambda x: len(x.split(',')) if x != '-1' else 0)"
      ]
    },
    {
      "cell_type": "code",
      "execution_count": null,
      "metadata": {
        "execution": {
          "iopub.execute_input": "2024-06-14T11:00:46.069308Z",
          "iopub.status.busy": "2024-06-14T11:00:46.069042Z",
          "iopub.status.idle": "2024-06-14T11:00:46.082433Z",
          "shell.execute_reply": "2024-06-14T11:00:46.081514Z",
          "shell.execute_reply.started": "2024-06-14T11:00:46.069285Z"
        },
        "trusted": true,
        "id": "Hm8hgwg_g7Bg"
      },
      "outputs": [],
      "source": [
        "df[['Competitors','Num_comp']]"
      ]
    },
    {
      "cell_type": "markdown",
      "metadata": {
        "id": "A2-8sOjeg7Bg"
      },
      "source": [
        "## `- Hourly Wage to annual`"
      ]
    },
    {
      "cell_type": "code",
      "execution_count": null,
      "metadata": {
        "execution": {
          "iopub.execute_input": "2024-06-14T11:00:46.083698Z",
          "iopub.status.busy": "2024-06-14T11:00:46.083435Z",
          "iopub.status.idle": "2024-06-14T11:00:46.130965Z",
          "shell.execute_reply": "2024-06-14T11:00:46.130092Z",
          "shell.execute_reply.started": "2024-06-14T11:00:46.083676Z"
        },
        "trusted": true,
        "id": "o0DlVRjTg7Bg"
      },
      "outputs": [],
      "source": [
        "# Hourly wage to annual\n",
        "df['Min_Salary'] = df.apply(lambda x: x.Min_Salary*2 if x.PerHour==1 else x.Min_Salary, axis =1)\n",
        "# Hourly wage to annual\n",
        "df['Man_Salary'] = df.apply(lambda x: x.Max_Salary*2 if x.PerHour==1 else x.Max_Salary, axis =1)\n",
        "\n"
      ]
    },
    {
      "cell_type": "code",
      "execution_count": null,
      "metadata": {
        "execution": {
          "iopub.execute_input": "2024-06-14T11:00:46.13234Z",
          "iopub.status.busy": "2024-06-14T11:00:46.132087Z",
          "iopub.status.idle": "2024-06-14T11:00:46.14636Z",
          "shell.execute_reply": "2024-06-14T11:00:46.145331Z",
          "shell.execute_reply.started": "2024-06-14T11:00:46.132318Z"
        },
        "trusted": true,
        "id": "Rzm9jBjBg7Bg"
      },
      "outputs": [],
      "source": [
        "df[df.PerHour ==1][['PerHour','Min_Salary','Max_Salary']]"
      ]
    },
    {
      "cell_type": "code",
      "execution_count": null,
      "metadata": {
        "execution": {
          "iopub.execute_input": "2024-06-14T11:00:46.148549Z",
          "iopub.status.busy": "2024-06-14T11:00:46.147586Z",
          "iopub.status.idle": "2024-06-14T11:00:46.174919Z",
          "shell.execute_reply": "2024-06-14T11:00:46.174054Z",
          "shell.execute_reply.started": "2024-06-14T11:00:46.148517Z"
        },
        "trusted": true,
        "id": "owZmDyzUg7Bg"
      },
      "outputs": [],
      "source": [
        "df.head()"
      ]
    },
    {
      "cell_type": "markdown",
      "metadata": {
        "id": "lsF37-HZg7Bg"
      },
      "source": [
        "> ### Now Everything is ready for EDA."
      ]
    },
    {
      "cell_type": "markdown",
      "metadata": {
        "id": "X_fEQBqqg7Bh"
      },
      "source": [
        "<a id='EDA'></a>\n",
        "# <p style=\"background-color:#FF6347;font-family:Verdana, sans-serif;color:#FFFFFF;font-size:90%;text-align:center;border-radius:10px;padding:10px;\"><b>4|</b>  Exploratory Data Analysis  </p>\n",
        "\n"
      ]
    },
    {
      "cell_type": "code",
      "execution_count": null,
      "metadata": {
        "execution": {
          "iopub.execute_input": "2024-06-14T11:00:46.176816Z",
          "iopub.status.busy": "2024-06-14T11:00:46.17614Z",
          "iopub.status.idle": "2024-06-14T11:00:46.228858Z",
          "shell.execute_reply": "2024-06-14T11:00:46.227975Z",
          "shell.execute_reply.started": "2024-06-14T11:00:46.176783Z"
        },
        "trusted": true,
        "id": "T5AjGms3g7Bh"
      },
      "outputs": [],
      "source": [
        "df.describe()"
      ]
    },
    {
      "cell_type": "code",
      "execution_count": null,
      "metadata": {
        "execution": {
          "iopub.execute_input": "2024-06-14T11:00:46.230317Z",
          "iopub.status.busy": "2024-06-14T11:00:46.230048Z",
          "iopub.status.idle": "2024-06-14T11:00:46.236508Z",
          "shell.execute_reply": "2024-06-14T11:00:46.235501Z",
          "shell.execute_reply.started": "2024-06-14T11:00:46.230294Z"
        },
        "trusted": true,
        "id": "1wxq0Fcsg7Bh"
      },
      "outputs": [],
      "source": [
        "df.columns"
      ]
    },
    {
      "cell_type": "code",
      "execution_count": null,
      "metadata": {
        "execution": {
          "iopub.execute_input": "2024-06-14T11:00:46.238044Z",
          "iopub.status.busy": "2024-06-14T11:00:46.237709Z",
          "iopub.status.idle": "2024-06-14T11:00:46.65386Z",
          "shell.execute_reply": "2024-06-14T11:00:46.652747Z",
          "shell.execute_reply.started": "2024-06-14T11:00:46.238006Z"
        },
        "trusted": true,
        "id": "b5s9Llo4g7Bh"
      },
      "outputs": [],
      "source": [
        "sns.set(style=\"whitegrid\")\n",
        "sns.set_palette(\"viridis\")\n",
        "\n",
        "df.Rating.hist()"
      ]
    },
    {
      "cell_type": "markdown",
      "metadata": {
        "id": "OhiezTc9g7Bh"
      },
      "source": [
        "![image.png](1.png)"
      ]
    },
    {
      "cell_type": "code",
      "execution_count": null,
      "metadata": {
        "execution": {
          "iopub.execute_input": "2024-06-14T11:00:46.65548Z",
          "iopub.status.busy": "2024-06-14T11:00:46.655129Z",
          "iopub.status.idle": "2024-06-14T11:00:47.01152Z",
          "shell.execute_reply": "2024-06-14T11:00:47.010473Z",
          "shell.execute_reply.started": "2024-06-14T11:00:46.655449Z"
        },
        "trusted": true,
        "id": "wwTv73JEg7Bh"
      },
      "outputs": [],
      "source": [
        "sns.set(style=\"whitegrid\")\n",
        "sns.set_palette(\"viridis\")\n",
        "\n",
        "df['Salary Estimate'].hist()"
      ]
    },
    {
      "cell_type": "markdown",
      "metadata": {
        "id": "cxZNUMrAg7Bi"
      },
      "source": [
        "![image.png](2.png)"
      ]
    },
    {
      "cell_type": "code",
      "execution_count": null,
      "metadata": {
        "execution": {
          "iopub.execute_input": "2024-06-14T11:00:47.013103Z",
          "iopub.status.busy": "2024-06-14T11:00:47.012783Z",
          "iopub.status.idle": "2024-06-14T11:00:47.448233Z",
          "shell.execute_reply": "2024-06-14T11:00:47.447121Z",
          "shell.execute_reply.started": "2024-06-14T11:00:47.013078Z"
        },
        "trusted": true,
        "id": "jAJKJEjNg7Bi"
      },
      "outputs": [],
      "source": [
        "sns.set(style=\"whitegrid\")\n",
        "sns.set_palette(\"viridis\")\n",
        "\n",
        "df.Age.hist()"
      ]
    },
    {
      "cell_type": "markdown",
      "metadata": {
        "id": "1V4Si3Wtg7Bi"
      },
      "source": [
        "![image.png](3.png)"
      ]
    },
    {
      "cell_type": "code",
      "execution_count": null,
      "metadata": {
        "execution": {
          "iopub.execute_input": "2024-06-14T11:00:47.450357Z",
          "iopub.status.busy": "2024-06-14T11:00:47.449977Z",
          "iopub.status.idle": "2024-06-14T11:00:47.888306Z",
          "shell.execute_reply": "2024-06-14T11:00:47.887243Z",
          "shell.execute_reply.started": "2024-06-14T11:00:47.450323Z"
        },
        "trusted": true,
        "id": "Yf_KjxWug7Bi"
      },
      "outputs": [],
      "source": [
        "sns.set(style=\"whitegrid\")\n",
        "sns.set_palette(\"viridis\")\n",
        "\n",
        "df.desc_len.hist()"
      ]
    },
    {
      "cell_type": "markdown",
      "metadata": {
        "id": "U4gY4ksRg7Bi"
      },
      "source": [
        "![image.png](44.png)"
      ]
    },
    {
      "cell_type": "markdown",
      "metadata": {
        "id": "Rhv5dsqwg7Bi"
      },
      "source": [
        "## `Checking Outliers by boxplot`"
      ]
    },
    {
      "cell_type": "markdown",
      "metadata": {
        "id": "KrIHeiWjg7Bj"
      },
      "source": [
        "<b>Columns:</b>\n",
        "\n",
        "1. Salary Estimate.\n",
        "2. Age.\n",
        "3. desc_len.\n",
        "4. Rating."
      ]
    },
    {
      "cell_type": "code",
      "execution_count": null,
      "metadata": {
        "execution": {
          "iopub.execute_input": "2024-06-14T11:00:47.890213Z",
          "iopub.status.busy": "2024-06-14T11:00:47.889822Z",
          "iopub.status.idle": "2024-06-14T11:00:48.163212Z",
          "shell.execute_reply": "2024-06-14T11:00:48.162114Z",
          "shell.execute_reply.started": "2024-06-14T11:00:47.89018Z"
        },
        "trusted": true,
        "id": "FafEBW8Lg7Bj"
      },
      "outputs": [],
      "source": [
        "# Define your custom color palette\n",
        "custom_palette = [\"#1f77b4\", \"#ff7f0e\"]\n",
        "\n",
        "# Set seaborn style and custom palette\n",
        "sns.set(style=\"whitegrid\", palette=custom_palette)\n",
        "\n",
        "# Create the boxplot with custom colors\n",
        "ax = df.boxplot(column=['Salary Estimate', 'Age'], boxprops=dict(color='lightblue'),\n",
        "                medianprops=dict(color='red'), whiskerprops=dict(color='green'),\n",
        "                capprops=dict(color='orange'), flierprops=dict(markerfacecolor='purple'))\n",
        "\n",
        "# Set custom colors for the axes\n",
        "ax.set_xlabel('Features')\n",
        "ax.set_ylabel('Values')\n",
        "ax.set_title('Estimated Salary and Age Columns')\n",
        "\n",
        "# Show the plot\n",
        "plt.show()\n",
        "\n",
        "\n"
      ]
    },
    {
      "cell_type": "markdown",
      "metadata": {
        "id": "JykuJ7PVg7Bj"
      },
      "source": [
        "![image.png](5.png)"
      ]
    },
    {
      "cell_type": "code",
      "execution_count": null,
      "metadata": {
        "execution": {
          "iopub.execute_input": "2024-06-14T11:00:48.165173Z",
          "iopub.status.busy": "2024-06-14T11:00:48.16489Z",
          "iopub.status.idle": "2024-06-14T11:00:48.441285Z",
          "shell.execute_reply": "2024-06-14T11:00:48.440253Z",
          "shell.execute_reply.started": "2024-06-14T11:00:48.165151Z"
        },
        "trusted": true,
        "id": "TYhedcCig7Bj"
      },
      "outputs": [],
      "source": [
        "# Define your custom color palette\n",
        "custom_palette = [\"#1f77b4\", \"#ff7f0e\"]\n",
        "\n",
        "# Set seaborn style and custom palette\n",
        "sns.set(style=\"whitegrid\", palette=custom_palette)\n",
        "\n",
        "# Create the boxplot with custom colors\n",
        "ax = df.boxplot(column=['desc_len', 'Rating'], boxprops=dict(color='lightblue'),\n",
        "                medianprops=dict(color='red'), whiskerprops=dict(color='green'),\n",
        "                capprops=dict(color='orange'), flierprops=dict(markerfacecolor='purple'))\n",
        "\n",
        "# Set custom colors for the axes\n",
        "ax.set_xlabel('Features')\n",
        "ax.set_ylabel('Values')\n",
        "ax.set_title('Desc_len & Rating Columns')\n",
        "\n",
        "# Show the plot\n",
        "plt.show()\n",
        "\n",
        "\n",
        "print(\"....................................................................................................................\")\n",
        "\n",
        "\n",
        "\n"
      ]
    },
    {
      "cell_type": "markdown",
      "metadata": {
        "id": "RstHlDFig7Bk"
      },
      "source": [
        "![image.png](6.png)"
      ]
    },
    {
      "cell_type": "code",
      "execution_count": null,
      "metadata": {
        "execution": {
          "iopub.execute_input": "2024-06-14T11:00:48.442747Z",
          "iopub.status.busy": "2024-06-14T11:00:48.442447Z",
          "iopub.status.idle": "2024-06-14T11:00:48.696209Z",
          "shell.execute_reply": "2024-06-14T11:00:48.695376Z",
          "shell.execute_reply.started": "2024-06-14T11:00:48.442706Z"
        },
        "trusted": true,
        "id": "aPBYYoVmg7Bk"
      },
      "outputs": [],
      "source": [
        "# Define your custom color palette\n",
        "custom_palette = [\"#1f77b4\"]\n",
        "\n",
        "# Set seaborn style and custom palette\n",
        "sns.set(style=\"whitegrid\", palette=custom_palette)\n",
        "\n",
        "# Create the boxplot with custom colors\n",
        "ax = df.boxplot(column=['Rating'], boxprops=dict(color='lightblue'),\n",
        "                medianprops=dict(color='red'), whiskerprops=dict(color='green'),\n",
        "                capprops=dict(color='orange'), flierprops=dict(markerfacecolor='purple'))\n",
        "\n",
        "# Set custom colors for the axes\n",
        "ax.set_xlabel('Features')\n",
        "ax.set_ylabel('Values')\n",
        "ax.set_title('Desc_len & Rating Columns')\n",
        "\n",
        "# Show the plot\n",
        "plt.show()"
      ]
    },
    {
      "cell_type": "markdown",
      "metadata": {
        "id": "I8loxYuSg7Bk"
      },
      "source": [
        "![image.png](7.png)"
      ]
    },
    {
      "cell_type": "markdown",
      "metadata": {
        "id": "YMO-byvAg7Bk"
      },
      "source": [
        "## `Correlation between Variables`\n"
      ]
    },
    {
      "cell_type": "code",
      "execution_count": null,
      "metadata": {
        "execution": {
          "iopub.execute_input": "2024-06-14T11:00:48.697815Z",
          "iopub.status.busy": "2024-06-14T11:00:48.697414Z",
          "iopub.status.idle": "2024-06-14T11:00:48.714817Z",
          "shell.execute_reply": "2024-06-14T11:00:48.713703Z",
          "shell.execute_reply.started": "2024-06-14T11:00:48.69778Z"
        },
        "trusted": true,
        "id": "pWYCAybUg7Bk"
      },
      "outputs": [],
      "source": [
        "df[['Age','Salary Estimate', 'Rating', 'desc_len']].corr()"
      ]
    },
    {
      "cell_type": "code",
      "execution_count": null,
      "metadata": {
        "execution": {
          "iopub.execute_input": "2024-06-14T11:00:48.716979Z",
          "iopub.status.busy": "2024-06-14T11:00:48.716534Z",
          "iopub.status.idle": "2024-06-14T11:00:49.087868Z",
          "shell.execute_reply": "2024-06-14T11:00:49.086797Z",
          "shell.execute_reply.started": "2024-06-14T11:00:48.716944Z"
        },
        "trusted": true,
        "id": "_ey0ZJOng7Bk"
      },
      "outputs": [],
      "source": [
        "cmap = sns.diverging_palette(220,10, as_cmap=True)\n",
        "\n",
        "sns.heatmap(df[['Age','Salary Estimate', 'Rating', 'desc_len']].corr(), vmax=.3, center=0, cmap=cmap,\n",
        "           square=True, linewidths=0.5, cbar_kws = {'shrink': .5})"
      ]
    },
    {
      "cell_type": "markdown",
      "metadata": {
        "id": "NHiVDbzGg7Bl"
      },
      "source": [
        "![image.png](8.png)"
      ]
    },
    {
      "cell_type": "code",
      "execution_count": null,
      "metadata": {
        "execution": {
          "iopub.execute_input": "2024-06-14T11:00:49.089407Z",
          "iopub.status.busy": "2024-06-14T11:00:49.089096Z",
          "iopub.status.idle": "2024-06-14T11:00:49.096803Z",
          "shell.execute_reply": "2024-06-14T11:00:49.095798Z",
          "shell.execute_reply.started": "2024-06-14T11:00:49.089382Z"
        },
        "trusted": true,
        "id": "S3vJXrnog7Bl"
      },
      "outputs": [],
      "source": [
        "df.columns"
      ]
    },
    {
      "cell_type": "code",
      "execution_count": null,
      "metadata": {
        "execution": {
          "iopub.execute_input": "2024-06-14T11:00:49.098451Z",
          "iopub.status.busy": "2024-06-14T11:00:49.09813Z",
          "iopub.status.idle": "2024-06-14T11:00:49.105906Z",
          "shell.execute_reply": "2024-06-14T11:00:49.104938Z",
          "shell.execute_reply.started": "2024-06-14T11:00:49.098419Z"
        },
        "trusted": true,
        "id": "CTo3d5e4g7Bl"
      },
      "outputs": [],
      "source": [
        "df_cat = df[['Location', 'Headquarters','Size','Type of ownership', 'Industry', 'Sector', 'Revenue','Company Name'\n",
        "             ,'job_state', 'Same State','Python_yn', 'R Studio', 'Spark', 'AWS_yn',\n",
        "       'Excel_yn', 'Job_simp', 'seniority']]"
      ]
    },
    {
      "cell_type": "code",
      "execution_count": null,
      "metadata": {
        "execution": {
          "iopub.execute_input": "2024-06-14T11:00:49.108278Z",
          "iopub.status.busy": "2024-06-14T11:00:49.107441Z",
          "iopub.status.idle": "2024-06-14T11:01:07.630455Z",
          "shell.execute_reply": "2024-06-14T11:01:07.629561Z",
          "shell.execute_reply.started": "2024-06-14T11:00:49.108243Z"
        },
        "trusted": true,
        "id": "aqgZDtmVg7Bl"
      },
      "outputs": [],
      "source": [
        "# Calculate the number of rows needed for subplots\n",
        "num_rows = len(df_cat.columns) // 2 + len(df_cat.columns) % 2\n",
        "\n",
        "# Create subplots\n",
        "fig, axes = plt.subplots(num_rows, 2, figsize=(10, 8*num_rows))\n",
        "\n",
        "# Flatten the axes array for easy iteration\n",
        "axes = axes.flatten()\n",
        "\n",
        "# Iterate over each column in df_cat\n",
        "for i, col in enumerate(df_cat.columns):\n",
        "    # Get value counts for the current column\n",
        "    cat_num = df_cat[col].value_counts()\n",
        "\n",
        "    # Generate a list of colors for each bar\n",
        "    colors = sns.color_palette(\"coolwarm\", len(cat_num))\n",
        "\n",
        "    # Plot the bar chart with custom colors\n",
        "    sns.barplot(x=cat_num.index, y=cat_num, palette=colors, ax=axes[i])\n",
        "\n",
        "    # Set title for the subplot\n",
        "    axes[i].set_title(\"Graph for %s\" % col)\n",
        "\n",
        "    # Rotate x-axis labels\n",
        "    axes[i].tick_params(axis='x', rotation=90)\n",
        "\n",
        "# Adjust layout to prevent overlap\n",
        "plt.tight_layout()\n",
        "\n",
        "# Show the plots\n",
        "plt.show()"
      ]
    },
    {
      "cell_type": "markdown",
      "metadata": {
        "id": "dKk_fposg7Bl"
      },
      "source": [
        "![image.png](9.png)"
      ]
    },
    {
      "cell_type": "markdown",
      "metadata": {
        "id": "WxC4Ug5lg7Bm"
      },
      "source": [
        "## `Clearing the Large plot`"
      ]
    },
    {
      "cell_type": "code",
      "execution_count": null,
      "metadata": {
        "execution": {
          "iopub.execute_input": "2024-06-14T11:01:07.631776Z",
          "iopub.status.busy": "2024-06-14T11:01:07.631489Z",
          "iopub.status.idle": "2024-06-14T11:01:09.41078Z",
          "shell.execute_reply": "2024-06-14T11:01:09.409888Z",
          "shell.execute_reply.started": "2024-06-14T11:01:07.631725Z"
        },
        "trusted": true,
        "id": "ueUTLOO3g7Bm"
      },
      "outputs": [],
      "source": [
        "# Get the columns of interest\n",
        "columns_of_interest = ['Location', 'Headquarters', 'Company Name']\n",
        "\n",
        "# Calculate the number of rows needed for subplots\n",
        "num_plots = len(columns_of_interest)\n",
        "num_rows = (num_plots + 1) // 2\n",
        "\n",
        "# Create subplots with appropriate number of rows and columns\n",
        "fig, axes = plt.subplots(num_rows, 2, figsize=(15, 5*num_rows))\n",
        "\n",
        "# Flatten the axes array for easy iteration\n",
        "axes = axes.flatten()\n",
        "\n",
        "# Iterate over selected columns in df_cat\n",
        "for i, col in enumerate(columns_of_interest):\n",
        "    # Get value counts for the current column\n",
        "    cat_num = df_cat[col].value_counts()[:20]\n",
        "    print(\"Graph for %s: Total = %d\" % (col, len(cat_num)))\n",
        "\n",
        "    # Create a bar plot only if there are values to plot\n",
        "    if not cat_num.empty:\n",
        "        # Create a bar plot\n",
        "        chart = sns.barplot(x=cat_num.index, y=cat_num, palette='viridis', ax=axes[i])\n",
        "\n",
        "        # Rotate x-axis labels for better readability\n",
        "        chart.set_xticklabels(chart.get_xticklabels(), rotation=90)\n",
        "\n",
        "        # Set title for the subplot\n",
        "        axes[i].set_title(\"Graph for %s\" % col)\n",
        "    else:\n",
        "        # Remove the subplot if there are no values to plot\n",
        "        fig.delaxes(axes[i])\n",
        "\n",
        "# Adjust layout to prevent overlap\n",
        "plt.tight_layout()\n",
        "\n",
        "# Show the plots\n",
        "plt.show()\n"
      ]
    },
    {
      "cell_type": "markdown",
      "metadata": {
        "id": "l_RR9wTPg7Bm"
      },
      "source": [
        "![image.png](10.png)"
      ]
    },
    {
      "cell_type": "code",
      "execution_count": null,
      "metadata": {
        "execution": {
          "iopub.execute_input": "2024-06-14T11:01:09.412232Z",
          "iopub.status.busy": "2024-06-14T11:01:09.411947Z",
          "iopub.status.idle": "2024-06-14T11:01:09.418764Z",
          "shell.execute_reply": "2024-06-14T11:01:09.417778Z",
          "shell.execute_reply.started": "2024-06-14T11:01:09.412207Z"
        },
        "trusted": true,
        "id": "q5r3erDGg7Bm"
      },
      "outputs": [],
      "source": [
        "df.columns"
      ]
    },
    {
      "cell_type": "code",
      "execution_count": null,
      "metadata": {
        "execution": {
          "iopub.execute_input": "2024-06-14T11:01:09.420152Z",
          "iopub.status.busy": "2024-06-14T11:01:09.419865Z",
          "iopub.status.idle": "2024-06-14T11:01:09.441923Z",
          "shell.execute_reply": "2024-06-14T11:01:09.440964Z",
          "shell.execute_reply.started": "2024-06-14T11:01:09.420128Z"
        },
        "trusted": true,
        "id": "g0WvCKfeg7Bm"
      },
      "outputs": [],
      "source": [
        "pd.pivot_table(df, index='Job_simp', values= 'Salary Estimate')"
      ]
    },
    {
      "cell_type": "code",
      "execution_count": null,
      "metadata": {
        "execution": {
          "iopub.execute_input": "2024-06-14T11:01:09.44413Z",
          "iopub.status.busy": "2024-06-14T11:01:09.443339Z",
          "iopub.status.idle": "2024-06-14T11:01:09.464499Z",
          "shell.execute_reply": "2024-06-14T11:01:09.463526Z",
          "shell.execute_reply.started": "2024-06-14T11:01:09.444094Z"
        },
        "trusted": true,
        "id": "CqDf93gGg7Bm"
      },
      "outputs": [],
      "source": [
        "pd.pivot_table(df, index=['Job_simp','seniority'], values= 'Salary Estimate')"
      ]
    },
    {
      "cell_type": "code",
      "execution_count": null,
      "metadata": {
        "execution": {
          "iopub.execute_input": "2024-06-14T11:01:09.465801Z",
          "iopub.status.busy": "2024-06-14T11:01:09.465522Z",
          "iopub.status.idle": "2024-06-14T11:01:09.469595Z",
          "shell.execute_reply": "2024-06-14T11:01:09.46878Z",
          "shell.execute_reply.started": "2024-06-14T11:01:09.465777Z"
        },
        "trusted": true,
        "id": "I24W93szg7Bm"
      },
      "outputs": [],
      "source": [
        "pd.set_option('display.max_rows',None)"
      ]
    },
    {
      "cell_type": "code",
      "execution_count": null,
      "metadata": {
        "execution": {
          "iopub.execute_input": "2024-06-14T11:01:09.471383Z",
          "iopub.status.busy": "2024-06-14T11:01:09.470815Z",
          "iopub.status.idle": "2024-06-14T11:01:09.504787Z",
          "shell.execute_reply": "2024-06-14T11:01:09.503889Z",
          "shell.execute_reply.started": "2024-06-14T11:01:09.471351Z"
        },
        "trusted": true,
        "id": "Nnhbd2oeg7Bn"
      },
      "outputs": [],
      "source": [
        "pd.pivot_table(df, index=['job_state','Job_simp'], values= 'Salary Estimate', aggfunc='count').sort_values('job_state', ascending=False)"
      ]
    },
    {
      "cell_type": "code",
      "execution_count": null,
      "metadata": {
        "execution": {
          "iopub.execute_input": "2024-06-14T11:01:09.506408Z",
          "iopub.status.busy": "2024-06-14T11:01:09.506046Z",
          "iopub.status.idle": "2024-06-14T11:01:09.512454Z",
          "shell.execute_reply": "2024-06-14T11:01:09.511543Z",
          "shell.execute_reply.started": "2024-06-14T11:01:09.506377Z"
        },
        "trusted": true,
        "id": "zValxCNQg7Bn"
      },
      "outputs": [],
      "source": [
        "df.columns"
      ]
    },
    {
      "cell_type": "markdown",
      "metadata": {
        "id": "kpv7_vBsg7Bn"
      },
      "source": [
        "### `lets only look for the datascience`\n"
      ]
    },
    {
      "cell_type": "code",
      "execution_count": null,
      "metadata": {
        "execution": {
          "iopub.execute_input": "2024-06-14T11:01:09.514843Z",
          "iopub.status.busy": "2024-06-14T11:01:09.514248Z",
          "iopub.status.idle": "2024-06-14T11:01:09.53278Z",
          "shell.execute_reply": "2024-06-14T11:01:09.531842Z",
          "shell.execute_reply.started": "2024-06-14T11:01:09.51481Z"
        },
        "trusted": true,
        "id": "S-Qya5wAg7Bn"
      },
      "outputs": [],
      "source": [
        "pd.pivot_table(df[df.Job_simp=='data scientist'],index='job_state' ,values= 'Salary Estimate').sort_values('Salary Estimate', ascending=False)\n",
        "\n"
      ]
    },
    {
      "cell_type": "markdown",
      "metadata": {
        "id": "OUIRXbl1g7Bn"
      },
      "source": [
        "## `Salary By Rating`\n"
      ]
    },
    {
      "cell_type": "code",
      "execution_count": null,
      "metadata": {
        "execution": {
          "iopub.execute_input": "2024-06-14T11:01:09.534164Z",
          "iopub.status.busy": "2024-06-14T11:01:09.533897Z",
          "iopub.status.idle": "2024-06-14T11:01:09.540472Z",
          "shell.execute_reply": "2024-06-14T11:01:09.539507Z",
          "shell.execute_reply.started": "2024-06-14T11:01:09.534141Z"
        },
        "trusted": true,
        "id": "6YqLvvECg7Bn"
      },
      "outputs": [],
      "source": [
        "df.columns"
      ]
    },
    {
      "cell_type": "code",
      "execution_count": null,
      "metadata": {
        "execution": {
          "iopub.execute_input": "2024-06-14T11:01:09.542149Z",
          "iopub.status.busy": "2024-06-14T11:01:09.541818Z",
          "iopub.status.idle": "2024-06-14T11:01:09.548033Z",
          "shell.execute_reply": "2024-06-14T11:01:09.547004Z",
          "shell.execute_reply.started": "2024-06-14T11:01:09.542118Z"
        },
        "trusted": true,
        "id": "9-7RDi2bg7Bo"
      },
      "outputs": [],
      "source": [
        "# Rating, Industry, sector, revenue, number of comp, hourly employer provided, python, r, spark, aws,excel,desc lne, type of ownership\n"
      ]
    },
    {
      "cell_type": "code",
      "execution_count": null,
      "metadata": {
        "execution": {
          "iopub.execute_input": "2024-06-14T11:01:09.54929Z",
          "iopub.status.busy": "2024-06-14T11:01:09.549042Z",
          "iopub.status.idle": "2024-06-14T11:01:09.558906Z",
          "shell.execute_reply": "2024-06-14T11:01:09.557982Z",
          "shell.execute_reply.started": "2024-06-14T11:01:09.549268Z"
        },
        "trusted": true,
        "id": "Iv5w8DVpg7Bo"
      },
      "outputs": [],
      "source": [
        "df_pivots = df[['Rating', 'Industry', 'Sector', 'Revenue', 'Employee','Num_comp', 'PerHour', 'Python_yn', 'R Studio', 'Spark', 'AWS_yn', 'Excel_yn', 'desc_len', 'Type of ownership','Salary Estimate' ]]"
      ]
    },
    {
      "cell_type": "code",
      "execution_count": null,
      "metadata": {
        "execution": {
          "iopub.execute_input": "2024-06-14T11:54:13.417567Z",
          "iopub.status.busy": "2024-06-14T11:54:13.416609Z",
          "iopub.status.idle": "2024-06-14T11:54:13.488053Z",
          "shell.execute_reply": "2024-06-14T11:54:13.4872Z",
          "shell.execute_reply.started": "2024-06-14T11:54:13.417517Z"
        },
        "trusted": true,
        "id": "j7tZmsdeg7Bo"
      },
      "outputs": [],
      "source": [
        "# Check data types and convert 'Salary Estimate' column to numeric if necessary\n",
        "df_pivots['Salary Estimate'] = pd.to_numeric(df_pivots['Salary Estimate'], errors='coerce')\n",
        "\n",
        "# Drop rows with NaN values in 'Salary Estimate' column\n",
        "df_pivots.dropna(subset=['Salary Estimate'], inplace=True)\n",
        "\n",
        "# Create pivot table for each column\n",
        "for i in df_pivots.columns:\n",
        "    if i != 'Salary Estimate':  # Exclude 'Salary Estimate' column from pivot table creation\n",
        "        print(i)\n",
        "        pivot_table = pd.pivot_table(df_pivots, index=i, values='Salary Estimate', aggfunc='mean')\n",
        "        pivot_table_sorted = pivot_table.sort_values('Salary Estimate', ascending=False)\n",
        "        print(pivot_table_sorted.head(2))  # Print only the top 2 rows\n"
      ]
    },
    {
      "cell_type": "markdown",
      "metadata": {
        "id": "kk9lc537g7Bo"
      },
      "source": [
        "# **`Words Analysis in Description by Word Cloud Plot`**"
      ]
    },
    {
      "cell_type": "code",
      "execution_count": null,
      "metadata": {
        "execution": {
          "iopub.execute_input": "2024-06-14T11:51:44.005098Z",
          "iopub.status.busy": "2024-06-14T11:51:44.004264Z",
          "iopub.status.idle": "2024-06-14T11:52:00.721773Z",
          "shell.execute_reply": "2024-06-14T11:52:00.720891Z",
          "shell.execute_reply.started": "2024-06-14T11:51:44.005056Z"
        },
        "trusted": true,
        "id": "fT97bkPXg7Bo"
      },
      "outputs": [],
      "source": [
        "nltk.download('punkt')\n",
        "\n",
        "\n",
        "words= \" \".join(df['Job Description'])\n",
        "\n",
        "def punctuation_stop(text):\n",
        "    filtered = []\n",
        "    stop_words = set(stopwords.words('english'))\n",
        "    word_tokens = word_tokenize(text)\n",
        "    for w in word_tokens:\n",
        "        if w not in stop_words and w.isalpha():\n",
        "            filtered.append(w.lower())\n",
        "    return filtered\n",
        "\n",
        "words_filtered = punctuation_stop(words)\n",
        "\n",
        "text= \" \".join([ele for ele in words_filtered])\n",
        "\n",
        "wc = WordCloud(background_color='black', random_state=1, stopwords=STOPWORDS, max_words=2000,width=800, height=1500)\n",
        "wc.generate(text)\n",
        "\n",
        "plt.figure(figsize=(6,25))\n",
        "plt.imshow(wc,interpolation=\"bilinear\")\n",
        "plt.axis('off')\n",
        "plt.show()"
      ]
    },
    {
      "cell_type": "markdown",
      "metadata": {
        "id": "0rRHwjFbg7Bo"
      },
      "source": [
        "<a id='ModelBuilding'></a>\n",
        "# <p style=\"background-color:#4CAF50;font-family:Arial, sans-serif;color:#FFFFFF;font-size:90%;text-align:center;border-radius:5px;padding:10px;\"><b>5|</b>  Model Building For Salary Prediction  </p>\n",
        "\n"
      ]
    },
    {
      "cell_type": "markdown",
      "metadata": {
        "id": "R-ywnBuFg7Bo"
      },
      "source": [
        "<div style=\"color: #1E90FF; display: inline-block; border-radius: 10px; background-color: #F0F8FF; font-family: 'Arial', sans-serif; overflow: hidden; border: 5px groove #1E90FF; width:70%;\">\n",
        "    <p style=\"padding: 15px; color: #1E90FF; overflow: hidden; font-size: 24px; letter-spacing: 1px; margin: 0; width: 100%;\">\n",
        "        <b> Steps to be Followed while building Model:</b>\n",
        "    </p>\n",
        "</div>\n",
        "\n",
        "\n",
        "<div style=\"border: 2px solid #1E90FF; border-radius: 10px; margin-top: 10px; width:70%\">\n",
        "    <ol style=\"list-style-type: none; padding: 10px;\">\n",
        "        <li>1. Choose Relevant Columns.</li>\n",
        "        <li>2. Get Dummy Dates.</li>\n",
        "        <li>3. Train Test Split.</li>\n",
        "        <li>4. Multiple Linear Regression.</li>\n",
        "        <li>5. Lasso Regression.</li>\n",
        "        <li>6. Random Forest.</li>\n",
        "        <li>7. Tune Models GridSearchCV.</li>\n",
        "        <li>8. Test Ensembles.</li>\n",
        "    </ol>\n",
        "</div>"
      ]
    },
    {
      "cell_type": "markdown",
      "metadata": {
        "id": "2ImvqMmtg7Bo"
      },
      "source": [
        "<div style=\"color: #FFA500; display: inline-block; border-radius: 15px; background-color: #FFEFD5; font-family: 'Arial', sans-serif; overflow: hidden; border: 5px solid #FFA500; width:50%\">\n",
        "    <p style=\"padding: 15px; color: #FFA500; overflow: hidden; font-size: 20px; letter-spacing: 1px; margin: 0; width: auto;\">\n",
        "        <b>1.. Choosing Relevant Columns:</b>\n",
        "    </p>\n",
        "</div>\n"
      ]
    },
    {
      "cell_type": "code",
      "execution_count": null,
      "metadata": {
        "execution": {
          "iopub.execute_input": "2024-06-14T11:01:28.839084Z",
          "iopub.status.busy": "2024-06-14T11:01:28.838776Z",
          "iopub.status.idle": "2024-06-14T11:01:28.845621Z",
          "shell.execute_reply": "2024-06-14T11:01:28.844768Z",
          "shell.execute_reply.started": "2024-06-14T11:01:28.839059Z"
        },
        "trusted": true,
        "id": "QoWwcqkog7Bp"
      },
      "outputs": [],
      "source": [
        "df.columns"
      ]
    },
    {
      "cell_type": "code",
      "execution_count": null,
      "metadata": {
        "execution": {
          "iopub.execute_input": "2024-06-14T11:01:28.847202Z",
          "iopub.status.busy": "2024-06-14T11:01:28.846797Z",
          "iopub.status.idle": "2024-06-14T11:01:28.884522Z",
          "shell.execute_reply": "2024-06-14T11:01:28.883628Z",
          "shell.execute_reply.started": "2024-06-14T11:01:28.847164Z"
        },
        "trusted": true,
        "id": "235dtefkg7Bp"
      },
      "outputs": [],
      "source": [
        "df_model = df[['Salary Estimate', 'Rating', 'Size', 'Type of ownership', 'Industry', 'Sector', 'Revenue', 'Num_comp', 'PerHour','Job Title', 'job_state','Same State','Age','Python_yn', 'Spark', 'AWS_yn', 'Excel_yn', 'Job_simp', 'seniority', 'desc_len']]\n",
        "df_model.head()"
      ]
    },
    {
      "cell_type": "markdown",
      "metadata": {
        "id": "UapiDtMkg7Bp"
      },
      "source": [
        "<div style=\"color: #FFA500; display: inline-block; border-radius: 15px; background-color: #FFEFD5; font-family: 'Arial', sans-serif; overflow: hidden; border: 5px solid #FFA500; width:50%\">\n",
        "    <p style=\"padding: 15px; color: #FFA500; overflow: hidden; font-size: 20px; letter-spacing: 1px; margin: 0; width: 100%;\">\n",
        "        <b>2. Get Dummy Dates</b>\n",
        "    </p>\n",
        "</div>"
      ]
    },
    {
      "cell_type": "code",
      "execution_count": null,
      "metadata": {
        "execution": {
          "iopub.execute_input": "2024-06-14T11:01:28.886202Z",
          "iopub.status.busy": "2024-06-14T11:01:28.885867Z",
          "iopub.status.idle": "2024-06-14T11:01:29.145711Z",
          "shell.execute_reply": "2024-06-14T11:01:29.144649Z",
          "shell.execute_reply.started": "2024-06-14T11:01:28.886172Z"
        },
        "trusted": true,
        "id": "S8U4f5M5g7Bp"
      },
      "outputs": [],
      "source": [
        "\n",
        "df_dum  = pd.get_dummies(df_model)\n",
        "pd.set_option('display.max_rows',None)\n",
        "\n",
        "df_dum.head()"
      ]
    },
    {
      "cell_type": "code",
      "execution_count": null,
      "metadata": {
        "execution": {
          "iopub.execute_input": "2024-06-14T11:01:29.147448Z",
          "iopub.status.busy": "2024-06-14T11:01:29.147082Z",
          "iopub.status.idle": "2024-06-14T11:01:29.152168Z",
          "shell.execute_reply": "2024-06-14T11:01:29.151252Z",
          "shell.execute_reply.started": "2024-06-14T11:01:29.147417Z"
        },
        "trusted": true,
        "id": "8HsKW0Ydg7Bp"
      },
      "outputs": [],
      "source": [
        "df1 = pd.DataFrame(df)"
      ]
    },
    {
      "cell_type": "code",
      "execution_count": null,
      "metadata": {
        "execution": {
          "iopub.execute_input": "2024-06-14T11:01:29.153504Z",
          "iopub.status.busy": "2024-06-14T11:01:29.153249Z",
          "iopub.status.idle": "2024-06-14T11:01:29.187604Z",
          "shell.execute_reply": "2024-06-14T11:01:29.186768Z",
          "shell.execute_reply.started": "2024-06-14T11:01:29.153482Z"
        },
        "trusted": true,
        "id": "DLzTNo0ng7Bp"
      },
      "outputs": [],
      "source": [
        "# Function to map values to 1, 0, or keep them unchanged\n",
        "df_int = df.apply(lambda x: x.astype(int) if x.dtype == 'bool' else x)\n",
        "\n",
        "# Display the resulting DataFrame\n",
        "pd.set_option('display.max_rows',None)\n",
        "df_int.head()"
      ]
    },
    {
      "cell_type": "markdown",
      "metadata": {
        "id": "yrZY7vKpg7Bp"
      },
      "source": [
        "<div style=\"color: #FFA500; display: inline-block; border-radius: 15px; background-color: #FFEFD5; font-family: 'Arial', sans-serif; overflow: hidden; border: 5px solid #FFA500; width:50%\">\n",
        "    <p style=\"padding: 15px; color: #FFA500; overflow: hidden; font-size: 20px; letter-spacing: 1px; margin: 0; width: 100%;\">\n",
        "        <b>3. Train Test Split</b>\n",
        "    </p>\n",
        "</div>\n",
        "\n"
      ]
    },
    {
      "cell_type": "code",
      "execution_count": null,
      "metadata": {
        "execution": {
          "iopub.execute_input": "2024-06-14T11:01:29.189145Z",
          "iopub.status.busy": "2024-06-14T11:01:29.188785Z",
          "iopub.status.idle": "2024-06-14T11:01:29.199116Z",
          "shell.execute_reply": "2024-06-14T11:01:29.198373Z",
          "shell.execute_reply.started": "2024-06-14T11:01:29.189113Z"
        },
        "trusted": true,
        "id": "i_NETVt5g7Bq"
      },
      "outputs": [],
      "source": [
        "X= df_dum.drop('Salary Estimate', axis=1)\n",
        "y= df_dum['Salary Estimate'].values\n",
        "\n",
        "X_train,X_test,y_train,y_test = train_test_split(X,y,test_size=0.2, random_state=42)\n"
      ]
    },
    {
      "cell_type": "markdown",
      "metadata": {
        "id": "N8Fgyq3fg7Bq"
      },
      "source": [
        "<div style=\"color: #FFA500; display: inline-block; border-radius: 15px; background-color: #FFEFD5; font-family: 'Arial', sans-serif; overflow: hidden; border: 5px solid #FFA500; width:50%\">\n",
        "    <p style=\"padding: 15px; color: #FFA500; overflow: hidden; font-size: 20px; letter-spacing: 1px; margin: 0; width: 100%;\">\n",
        "        <b>4. Multiple Linear Regression</b>\n",
        "    </p>\n",
        "</div>\n",
        "\n"
      ]
    },
    {
      "cell_type": "code",
      "execution_count": null,
      "metadata": {
        "execution": {
          "iopub.execute_input": "2024-06-14T11:01:29.200441Z",
          "iopub.status.busy": "2024-06-14T11:01:29.200113Z",
          "iopub.status.idle": "2024-06-14T11:01:29.205038Z",
          "shell.execute_reply": "2024-06-14T11:01:29.204013Z",
          "shell.execute_reply.started": "2024-06-14T11:01:29.200418Z"
        },
        "trusted": true,
        "id": "P2XVBqXQg7Bq"
      },
      "outputs": [],
      "source": [
        "# !pip install statsmodels"
      ]
    },
    {
      "cell_type": "code",
      "execution_count": null,
      "metadata": {
        "execution": {
          "iopub.execute_input": "2024-06-14T11:01:29.2065Z",
          "iopub.status.busy": "2024-06-14T11:01:29.206233Z",
          "iopub.status.idle": "2024-06-14T11:01:29.213392Z",
          "shell.execute_reply": "2024-06-14T11:01:29.212679Z",
          "shell.execute_reply.started": "2024-06-14T11:01:29.206468Z"
        },
        "trusted": true,
        "id": "1weRGHAig7Bq"
      },
      "outputs": [],
      "source": [
        "# import statsmodels.api as sm\n",
        "\n",
        "# # Assuming X is your independent variable array or DataFrame\n",
        "# # Assuming y is your dependent variable array or DataFrame\n",
        "\n",
        "# # Adding a constant term to independent variables\n",
        "# X_sm = sm.add_constant(X)\n",
        "\n",
        "# # Fit regression model\n",
        "# model = sm.OLS(y, X_sm)\n",
        "# results = model.fit()\n",
        "\n",
        "# # Inspect the results\n",
        "# print(results.summary())\n"
      ]
    },
    {
      "cell_type": "code",
      "execution_count": null,
      "metadata": {
        "execution": {
          "iopub.execute_input": "2024-06-14T11:01:29.215015Z",
          "iopub.status.busy": "2024-06-14T11:01:29.214566Z",
          "iopub.status.idle": "2024-06-14T11:01:29.782858Z",
          "shell.execute_reply": "2024-06-14T11:01:29.78191Z",
          "shell.execute_reply.started": "2024-06-14T11:01:29.214987Z"
        },
        "trusted": true,
        "id": "t0bTbdn_g7Bq"
      },
      "outputs": [],
      "source": [
        "lm = LinearRegression()\n",
        "lm.fit(X_train,y_train)\n",
        "\n",
        "cross_val_score(lm,X_train,y_train, scoring='neg_mean_absolute_error')"
      ]
    },
    {
      "cell_type": "code",
      "execution_count": null,
      "metadata": {
        "execution": {
          "iopub.execute_input": "2024-06-14T11:01:29.785014Z",
          "iopub.status.busy": "2024-06-14T11:01:29.784572Z",
          "iopub.status.idle": "2024-06-14T11:01:30.110273Z",
          "shell.execute_reply": "2024-06-14T11:01:30.109322Z",
          "shell.execute_reply.started": "2024-06-14T11:01:29.784976Z"
        },
        "trusted": true,
        "id": "Z309C2cFg7Bq"
      },
      "outputs": [],
      "source": [
        "cross_val_score(lm,X_train,y_train, scoring='neg_mean_absolute_error', cv=3)\n"
      ]
    },
    {
      "cell_type": "code",
      "execution_count": null,
      "metadata": {
        "execution": {
          "iopub.execute_input": "2024-06-14T11:01:30.112294Z",
          "iopub.status.busy": "2024-06-14T11:01:30.111773Z",
          "iopub.status.idle": "2024-06-14T11:01:30.256719Z",
          "shell.execute_reply": "2024-06-14T11:01:30.255563Z",
          "shell.execute_reply.started": "2024-06-14T11:01:30.112262Z"
        },
        "trusted": true,
        "id": "PixqpCi3g7Br"
      },
      "outputs": [],
      "source": [
        "# the above output is to skewed so by taking its mean we will be to read\n",
        "np.mean(cross_val_score(lm,X_train,y_train, scoring='neg_mean_absolute_error', cv=2))"
      ]
    },
    {
      "cell_type": "markdown",
      "metadata": {
        "id": "htt62JL-g7Br"
      },
      "source": [
        "<div style=\"color: #FFA500; display: inline-block; border-radius: 15px; background-color: #FFEFD5; font-family: 'Arial', sans-serif; overflow: hidden; border: 5px solid #FFA500; width:50%\">\n",
        "    <p style=\"padding: 15px; color: #FFA500; overflow: hidden; font-size: 20px; letter-spacing: 1px; margin: 0; width: 100%;\">\n",
        "        <b>5. Lasso Regression</b>\n",
        "    </p>\n",
        "</div>"
      ]
    },
    {
      "cell_type": "code",
      "execution_count": null,
      "metadata": {
        "execution": {
          "iopub.execute_input": "2024-06-14T11:01:30.265358Z",
          "iopub.status.busy": "2024-06-14T11:01:30.262202Z",
          "iopub.status.idle": "2024-06-14T11:01:30.464256Z",
          "shell.execute_reply": "2024-06-14T11:01:30.463117Z",
          "shell.execute_reply.started": "2024-06-14T11:01:30.265306Z"
        },
        "trusted": true,
        "id": "3hH5c_6lg7Br"
      },
      "outputs": [],
      "source": [
        "\n",
        "lm_l = Lasso()\n",
        "np.mean(cross_val_score(lm_l, X_train, y_train, scoring= 'neg_mean_absolute_error', cv=3))"
      ]
    },
    {
      "cell_type": "markdown",
      "metadata": {
        "id": "-_-AVy_Eg7Br"
      },
      "source": [
        "<b> It means that the lasso Regression model or Algorithm is best from LinearRegresion according to our data</b>\n"
      ]
    },
    {
      "cell_type": "code",
      "execution_count": null,
      "metadata": {
        "execution": {
          "iopub.execute_input": "2024-06-14T11:01:30.466401Z",
          "iopub.status.busy": "2024-06-14T11:01:30.466051Z",
          "iopub.status.idle": "2024-06-14T11:03:00.753975Z",
          "shell.execute_reply": "2024-06-14T11:03:00.753003Z",
          "shell.execute_reply.started": "2024-06-14T11:01:30.466369Z"
        },
        "trusted": true,
        "id": "hVgVm7Tvg7Br"
      },
      "outputs": [],
      "source": [
        "alpha = []\n",
        "error = []\n",
        "\n",
        "for i in range(1,1000):\n",
        "    alpha.append(i/10)\n",
        "    lml = Lasso(alpha=(i/100))\n",
        "    error.append(np.mean(cross_val_score(lml,X_train, y_train, scoring='neg_mean_absolute_error', cv=2)))\n",
        "\n",
        "plt.plot(alpha,error)"
      ]
    },
    {
      "cell_type": "markdown",
      "metadata": {
        "id": "lVv_De5gg7Bs"
      },
      "source": [
        "![image.png](11.png)"
      ]
    },
    {
      "cell_type": "markdown",
      "metadata": {
        "id": "y9BSKAHLg7Bs"
      },
      "source": [
        "## `Checking how much we improve our model`"
      ]
    },
    {
      "cell_type": "code",
      "execution_count": null,
      "metadata": {
        "execution": {
          "iopub.execute_input": "2024-06-14T11:03:00.764639Z",
          "iopub.status.busy": "2024-06-14T11:03:00.764344Z",
          "iopub.status.idle": "2024-06-14T11:03:00.776171Z",
          "shell.execute_reply": "2024-06-14T11:03:00.77528Z",
          "shell.execute_reply.started": "2024-06-14T11:03:00.764613Z"
        },
        "trusted": true,
        "id": "x9Hv61rIg7Bs"
      },
      "outputs": [],
      "source": [
        "err = tuple(zip(alpha, error))\n",
        "df_err = pd.DataFrame(err, columns= ['Alpha', 'error'])\n",
        "\n",
        "# checking how much we improve the model\n",
        "df_err[df_err.error==max(df_err.error)]\n"
      ]
    },
    {
      "cell_type": "markdown",
      "metadata": {
        "id": "TQp0B2_Hg7Bs"
      },
      "source": [
        "Now training the lasso model again on the alpha value equal to 0.3"
      ]
    },
    {
      "cell_type": "code",
      "execution_count": null,
      "metadata": {
        "execution": {
          "iopub.execute_input": "2024-06-14T11:03:00.777603Z",
          "iopub.status.busy": "2024-06-14T11:03:00.777298Z",
          "iopub.status.idle": "2024-06-14T11:03:00.915528Z",
          "shell.execute_reply": "2024-06-14T11:03:00.914407Z",
          "shell.execute_reply.started": "2024-06-14T11:03:00.77758Z"
        },
        "trusted": true,
        "id": "PJky4OcAg7Bs"
      },
      "outputs": [],
      "source": [
        "lm_l = Lasso(alpha=0.3)\n",
        "lm_l.fit(X_train,y_train)\n",
        "np.mean(cross_val_score(lm_l, X_train, y_train, scoring= 'neg_mean_absolute_error', cv=3))\n"
      ]
    },
    {
      "cell_type": "markdown",
      "metadata": {
        "id": "HYZbJR8bg7Bs"
      },
      "source": [
        "### `In Lasso Regression the error we record is:`"
      ]
    },
    {
      "cell_type": "code",
      "execution_count": null,
      "metadata": {
        "execution": {
          "iopub.execute_input": "2024-06-14T11:03:00.924299Z",
          "iopub.status.busy": "2024-06-14T11:03:00.920894Z",
          "iopub.status.idle": "2024-06-14T11:03:01.027515Z",
          "shell.execute_reply": "2024-06-14T11:03:01.026179Z",
          "shell.execute_reply.started": "2024-06-14T11:03:00.924253Z"
        },
        "trusted": true,
        "id": "EFLJRMMDg7Bs"
      },
      "outputs": [],
      "source": [
        "np.mean(cross_val_score(lm_l, X_train, y_train, scoring= 'neg_mean_absolute_error', cv=3))"
      ]
    },
    {
      "cell_type": "markdown",
      "metadata": {
        "id": "BkwdLKHEg7Bt"
      },
      "source": [
        "<br>\n",
        "\n",
        "- <b>we can see that improve our from -21.09619987218103 to -18.272763 and that pretty awesome</b>"
      ]
    },
    {
      "cell_type": "markdown",
      "metadata": {
        "id": "uhuBgfJTg7Bt"
      },
      "source": [
        "<div style=\"color: #1E90FF; display: inline-block; border-radius: 10px; background-color: #F0F8FF; font-family: 'Arial', sans-serif; overflow: hidden; border: 5px groove #1E90FF; width:50%;\">\n",
        "    <p style=\"padding: 15px; color: #1E90FF; overflow: hidden; font-size: 24px; letter-spacing: 1px; margin: 0; width: 100%;\">\n",
        "        <b> 6. Random Forest Model or Algorithm</b>\n",
        "    </p>\n",
        "</div>\n",
        "\n",
        "<div style=\"border: 2px solid #1E90FF; border-radius: 10px; margin-top: 10px; width:50%\">\n",
        "    <ol style=\"list-style-type: none; padding: 10px;\">\n",
        "        <li></li>\n",
        "        <li>- Calculating its error.</li>\n",
        "        <li>- Trying to minimize the error.</li>\n",
        "    </ol>\n",
        "</div>"
      ]
    },
    {
      "cell_type": "markdown",
      "metadata": {
        "id": "yIENZxmng7Bt"
      },
      "source": [
        "#### `Training the Model`"
      ]
    },
    {
      "cell_type": "code",
      "execution_count": null,
      "metadata": {
        "execution": {
          "iopub.execute_input": "2024-06-14T11:03:01.036225Z",
          "iopub.status.busy": "2024-06-14T11:03:01.033126Z",
          "iopub.status.idle": "2024-06-14T11:03:01.046197Z",
          "shell.execute_reply": "2024-06-14T11:03:01.044497Z",
          "shell.execute_reply.started": "2024-06-14T11:03:01.036177Z"
        },
        "trusted": true,
        "id": "_3GLbcoqg7Bt"
      },
      "outputs": [],
      "source": [
        "\n",
        "rf = RandomForestRegressor()"
      ]
    },
    {
      "cell_type": "markdown",
      "metadata": {
        "id": "qTBAtSCeg7Bt"
      },
      "source": [
        "#### `Calculating the error of Random Forest Model`\n"
      ]
    },
    {
      "cell_type": "code",
      "execution_count": null,
      "metadata": {
        "execution": {
          "iopub.execute_input": "2024-06-14T11:03:01.051467Z",
          "iopub.status.busy": "2024-06-14T11:03:01.050094Z",
          "iopub.status.idle": "2024-06-14T11:03:03.284701Z",
          "shell.execute_reply": "2024-06-14T11:03:03.283808Z",
          "shell.execute_reply.started": "2024-06-14T11:03:01.051421Z"
        },
        "trusted": true,
        "id": "wJBr2xg4g7Bt"
      },
      "outputs": [],
      "source": [
        "np.mean(cross_val_score(rf, X_train, y_train, scoring= 'neg_mean_absolute_error', cv=3))\n"
      ]
    },
    {
      "cell_type": "markdown",
      "metadata": {
        "id": "9raataxGg7Bt"
      },
      "source": [
        "Its quit awesome that Random Forest Model is doing for on our data.\n",
        "\n",
        "without Minimizing the error it performing better than the last algorithms that we apply on our data."
      ]
    },
    {
      "cell_type": "markdown",
      "metadata": {
        "id": "gjF-SsVKg7Bu"
      },
      "source": [
        "<a id='Tuning'></a>\n",
        "# <p style=\"background-color:#4CAF50;font-family:Arial, sans-serif;color:#FFFFFF;font-size:90%;text-align:center;border-radius:5px;padding:10px;\"><b>6|</b>  Tunning by GridsearchCV  </p>\n",
        "\n",
        "\n",
        "\n",
        "<div style=\"border: 2px solid #1E90FF; border-radius: 10px; margin-top: 10px; width:50%\">\n",
        "<h3 style= \"color:Yellow\";>Lets understand how it works:</h3>\n",
        "    <ol style=\"list-style-type: none; padding: 10px;\">\n",
        "        <li>- we will give the parameters that we want in model.</li>\n",
        "        <li>- Based on those parameters it will analyse algorithm.</li>\n",
        "        <li>- We will select which one is best according to these analysis of GridSearchCV.</li>\n",
        "    </ol>\n",
        "</div>\n",
        "\n",
        "\n",
        "\n",
        "\n"
      ]
    },
    {
      "cell_type": "code",
      "execution_count": null,
      "metadata": {
        "execution": {
          "iopub.execute_input": "2024-06-14T11:03:03.287305Z",
          "iopub.status.busy": "2024-06-14T11:03:03.28651Z",
          "iopub.status.idle": "2024-06-14T11:24:28.684373Z",
          "shell.execute_reply": "2024-06-14T11:24:28.68343Z",
          "shell.execute_reply.started": "2024-06-14T11:03:03.28727Z"
        },
        "trusted": true,
        "id": "Gm38-8Qhg7Bu"
      },
      "outputs": [],
      "source": [
        "parameters = {\n",
        "    'n_estimators': range(10, 300, 10),\n",
        "    'criterion': ('friedman_mse', 'absolute_error'),\n",
        "    'max_features': (None, 'sqrt', 'log2')\n",
        "}\n",
        "\n",
        "gs = GridSearchCV(rf, parameters, error_score='raise', cv=3)\n",
        "gs.fit(X_train, y_train)"
      ]
    },
    {
      "cell_type": "code",
      "execution_count": null,
      "metadata": {
        "execution": {
          "iopub.execute_input": "2024-06-14T11:24:28.685661Z",
          "iopub.status.busy": "2024-06-14T11:24:28.685392Z",
          "iopub.status.idle": "2024-06-14T11:24:28.691183Z",
          "shell.execute_reply": "2024-06-14T11:24:28.690267Z",
          "shell.execute_reply.started": "2024-06-14T11:24:28.685638Z"
        },
        "trusted": true,
        "id": "zE1TRgs8g7Bu"
      },
      "outputs": [],
      "source": [
        "gs.best_score_\n"
      ]
    },
    {
      "cell_type": "code",
      "execution_count": null,
      "metadata": {
        "execution": {
          "iopub.execute_input": "2024-06-14T11:24:28.693283Z",
          "iopub.status.busy": "2024-06-14T11:24:28.692665Z",
          "iopub.status.idle": "2024-06-14T11:24:28.702625Z",
          "shell.execute_reply": "2024-06-14T11:24:28.701777Z",
          "shell.execute_reply.started": "2024-06-14T11:24:28.693258Z"
        },
        "trusted": true,
        "id": "WtAmzl7Ag7Bu"
      },
      "outputs": [],
      "source": [
        "gs.best_estimator_\n"
      ]
    },
    {
      "cell_type": "markdown",
      "metadata": {
        "id": "ZTewAikZg7Bu"
      },
      "source": [
        "<h3 style=\"color:yellow;\"> Summary of GridSearchCV:</h3>\n",
        "\n",
        "Looks like we achieve much better or we minimize the error from `-15.12471850484541` to `0.6424335492673592` amazing right.<br>\n",
        "\n",
        "\n",
        "we can achieve the accuracy of our model very high if we use the following parameters according to GridSearchCV method:\n",
        "\n",
        "<p style =\"color:RED;font-size:30px\"><b>Parameters:</b></p>\n",
        "1. criterion should be `absolute_error`.\n",
        "2. max_features should be `None`.\n",
        "3. n_estimators should be `40`."
      ]
    },
    {
      "cell_type": "markdown",
      "metadata": {
        "id": "NDXtKqNrg7Bu"
      },
      "source": [
        "<a id='ensembles'></a>\n",
        "# <p style=\"background-color:#4CAF50;font-family:Arial, sans-serif;color:#FFFFFF;font-size:90%;text-align:center;border-radius:5px;padding:10px;\"><b>7|</b>  Model Training or Test Ensembles:  </p>\n",
        "\n",
        "\n",
        "Now we can train our because we know by now everything that are needed for our model to perform outstanding..."
      ]
    },
    {
      "cell_type": "code",
      "execution_count": null,
      "metadata": {
        "execution": {
          "iopub.execute_input": "2024-06-14T11:24:28.703947Z",
          "iopub.status.busy": "2024-06-14T11:24:28.703655Z",
          "iopub.status.idle": "2024-06-14T11:24:28.750823Z",
          "shell.execute_reply": "2024-06-14T11:24:28.749624Z",
          "shell.execute_reply.started": "2024-06-14T11:24:28.703924Z"
        },
        "trusted": true,
        "id": "jIr68e7Ng7Bv"
      },
      "outputs": [],
      "source": [
        "tpred_lm = lm.predict(X_test)\n",
        "tpred_lml = lm_l.predict(X_test)\n",
        "tpred_rf = gs.best_estimator_.predict(X_test)"
      ]
    },
    {
      "cell_type": "code",
      "execution_count": null,
      "metadata": {
        "execution": {
          "iopub.execute_input": "2024-06-14T11:24:28.752947Z",
          "iopub.status.busy": "2024-06-14T11:24:28.752067Z",
          "iopub.status.idle": "2024-06-14T11:24:28.761209Z",
          "shell.execute_reply": "2024-06-14T11:24:28.760016Z",
          "shell.execute_reply.started": "2024-06-14T11:24:28.752912Z"
        },
        "trusted": true,
        "id": "wHO_UGwfg7Bv"
      },
      "outputs": [],
      "source": [
        "from sklearn.metrics import mean_absolute_error\n",
        "mean_absolute_error(y_test,tpred_lm)\n"
      ]
    },
    {
      "cell_type": "code",
      "execution_count": null,
      "metadata": {
        "execution": {
          "iopub.execute_input": "2024-06-14T11:24:28.763192Z",
          "iopub.status.busy": "2024-06-14T11:24:28.762725Z",
          "iopub.status.idle": "2024-06-14T11:24:28.772686Z",
          "shell.execute_reply": "2024-06-14T11:24:28.771499Z",
          "shell.execute_reply.started": "2024-06-14T11:24:28.76316Z"
        },
        "trusted": true,
        "id": "NHY4aZIug7Bv"
      },
      "outputs": [],
      "source": [
        "mean_absolute_error(y_test,tpred_lml)\n"
      ]
    },
    {
      "cell_type": "code",
      "execution_count": null,
      "metadata": {
        "execution": {
          "iopub.execute_input": "2024-06-14T11:24:28.774581Z",
          "iopub.status.busy": "2024-06-14T11:24:28.774146Z",
          "iopub.status.idle": "2024-06-14T11:24:28.783941Z",
          "shell.execute_reply": "2024-06-14T11:24:28.782505Z",
          "shell.execute_reply.started": "2024-06-14T11:24:28.774548Z"
        },
        "trusted": true,
        "id": "_bugUt2Mg7Bv"
      },
      "outputs": [],
      "source": [
        "mean_absolute_error(y_test,tpred_rf)"
      ]
    },
    {
      "cell_type": "markdown",
      "metadata": {
        "id": "lY3Usuqwg7Bv"
      },
      "source": [
        "### `Always two of them which are best`\n"
      ]
    },
    {
      "cell_type": "code",
      "execution_count": null,
      "metadata": {
        "execution": {
          "iopub.execute_input": "2024-06-14T11:24:28.785904Z",
          "iopub.status.busy": "2024-06-14T11:24:28.785246Z",
          "iopub.status.idle": "2024-06-14T11:24:28.795822Z",
          "shell.execute_reply": "2024-06-14T11:24:28.79437Z",
          "shell.execute_reply.started": "2024-06-14T11:24:28.785868Z"
        },
        "trusted": true,
        "id": "u5f1xHrDg7Bv"
      },
      "outputs": [],
      "source": [
        "mean_absolute_error(y_test,(tpred_lml+tpred_rf)/2)\n"
      ]
    },
    {
      "cell_type": "markdown",
      "metadata": {
        "id": "RGJjRa_Vg7Bv"
      },
      "source": [
        "This value should in between the value of tpred_lml and tpred_rf and it is in between so it correct and our model is not over tranied.<br>\n",
        "\n",
        "LinearRegression is suitable for our data which can be seen cause it has high value."
      ]
    },
    {
      "cell_type": "markdown",
      "metadata": {
        "id": "L-lwMBimg7Bw"
      },
      "source": [
        "<a id='production'></a>\n",
        "# <p style=\"background-color:#4CAF50;font-family:Arial, sans-serif;color:#FFFFFF;font-size:90%;text-align:center;border-radius:5px;padding:10px;\"><b>8|</b>  Putting the Model Into Production:  </p>\n",
        "\n",
        "Using pickle to store the neccessory values or variables into a file of pickle so that it can be used in the flask app...."
      ]
    },
    {
      "cell_type": "code",
      "execution_count": null,
      "metadata": {
        "execution": {
          "iopub.execute_input": "2024-06-14T11:24:28.797821Z",
          "iopub.status.busy": "2024-06-14T11:24:28.797329Z",
          "iopub.status.idle": "2024-06-14T11:24:28.830306Z",
          "shell.execute_reply": "2024-06-14T11:24:28.829199Z",
          "shell.execute_reply.started": "2024-06-14T11:24:28.797787Z"
        },
        "trusted": true,
        "id": "8BcC37ENg7Bw"
      },
      "outputs": [],
      "source": [
        "import pickle\n",
        "pickl = {'model': gs.best_estimator_}\n",
        "pickle.dump(pickl,open('model_file'+ '.p', \"wb\"))\n",
        "\n",
        "\n"
      ]
    },
    {
      "cell_type": "code",
      "execution_count": null,
      "metadata": {
        "execution": {
          "iopub.execute_input": "2024-06-14T11:24:28.83888Z",
          "iopub.status.busy": "2024-06-14T11:24:28.835776Z",
          "iopub.status.idle": "2024-06-14T11:24:28.872087Z",
          "shell.execute_reply": "2024-06-14T11:24:28.871278Z",
          "shell.execute_reply.started": "2024-06-14T11:24:28.838834Z"
        },
        "trusted": true,
        "id": "DRdyXKeTg7Bw"
      },
      "outputs": [],
      "source": [
        "file_name = \"model_file.p\"\n",
        "\n",
        "with open (file_name, \"rb\") as pickled:\n",
        "    data = pickle.load(pickled)\n",
        "    model= data[\"model\"]\n",
        "\n",
        "model.predict(X_test.iloc[1,:].values.reshape(1,-1))\n",
        "\n"
      ]
    },
    {
      "cell_type": "markdown",
      "metadata": {
        "id": "npjfAlSWg7Bw"
      },
      "source": [
        "The Above value is the prediction.\n",
        "#####  `Everything is good now its time to built the flask app for it but for now in this notebook everthing is finished.....`"
      ]
    }
  ],
  "metadata": {
    "kaggle": {
      "accelerator": "gpu",
      "dataSources": [
        {
          "datasetId": 1723186,
          "sourceId": 2835033,
          "sourceType": "datasetVersion"
        },
        {
          "datasetId": 1813851,
          "sourceId": 2958492,
          "sourceType": "datasetVersion"
        },
        {
          "datasetId": 2268489,
          "sourceId": 3806098,
          "sourceType": "datasetVersion"
        },
        {
          "datasetId": 2467136,
          "sourceId": 4184379,
          "sourceType": "datasetVersion"
        },
        {
          "datasetId": 2643820,
          "sourceId": 4524050,
          "sourceType": "datasetVersion"
        },
        {
          "datasetId": 2742701,
          "sourceId": 4739500,
          "sourceType": "datasetVersion"
        },
        {
          "datasetId": 3125926,
          "sourceId": 5392837,
          "sourceType": "datasetVersion"
        },
        {
          "datasetId": 4164244,
          "sourceId": 7199610,
          "sourceType": "datasetVersion"
        },
        {
          "datasetId": 4213326,
          "sourceId": 7279972,
          "sourceType": "datasetVersion"
        },
        {
          "datasetId": 3992758,
          "sourceId": 7364330,
          "sourceType": "datasetVersion"
        },
        {
          "datasetId": 3490861,
          "sourceId": 7369472,
          "sourceType": "datasetVersion"
        },
        {
          "datasetId": 4308460,
          "sourceId": 7442598,
          "sourceType": "datasetVersion"
        },
        {
          "datasetId": 4504286,
          "sourceId": 7713157,
          "sourceType": "datasetVersion"
        },
        {
          "datasetId": 4562606,
          "sourceId": 7793822,
          "sourceType": "datasetVersion"
        },
        {
          "datasetId": 4675359,
          "sourceId": 7950235,
          "sourceType": "datasetVersion"
        },
        {
          "datasetId": 4891767,
          "sourceId": 8247117,
          "sourceType": "datasetVersion"
        }
      ],
      "dockerImageVersionId": 30698,
      "isGpuEnabled": true,
      "isInternetEnabled": false,
      "language": "python",
      "sourceType": "notebook"
    },
    "kernelspec": {
      "display_name": "Python 3",
      "language": "python",
      "name": "python3"
    },
    "language_info": {
      "codemirror_mode": {
        "name": "ipython",
        "version": 3
      },
      "file_extension": ".py",
      "mimetype": "text/x-python",
      "name": "python",
      "nbconvert_exporter": "python",
      "pygments_lexer": "ipython3",
      "version": "3.11.5"
    },
    "colab": {
      "provenance": [],
      "include_colab_link": true
    }
  },
  "nbformat": 4,
  "nbformat_minor": 0
}